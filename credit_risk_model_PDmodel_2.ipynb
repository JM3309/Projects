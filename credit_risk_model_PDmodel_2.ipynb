{
  "nbformat": 4,
  "nbformat_minor": 0,
  "metadata": {
    "colab": {
      "name": "credit_risk_model_PDmodel_2.ipynb",
      "provenance": [],
      "collapsed_sections": [],
      "authorship_tag": "ABX9TyMLsjr0BliQApUa3Fe6lyAT",
      "include_colab_link": true
    },
    "kernelspec": {
      "name": "python3",
      "display_name": "Python 3"
    }
  },
  "cells": [
    {
      "cell_type": "markdown",
      "metadata": {
        "id": "view-in-github",
        "colab_type": "text"
      },
      "source": [
        "<a href=\"https://colab.research.google.com/github/JM3309/Projects/blob/master/credit_risk_model_PDmodel_2.ipynb\" target=\"_parent\"><img src=\"https://colab.research.google.com/assets/colab-badge.svg\" alt=\"Open In Colab\"/></a>"
      ]
    },
    {
      "cell_type": "code",
      "metadata": {
        "colab": {
          "base_uri": "https://localhost:8080/"
        },
        "id": "edMUZe1Lw8Bt",
        "outputId": "73ced61e-cde5-454c-d37e-19aa533dad81"
      },
      "source": [
        "pip install boto3"
      ],
      "execution_count": 1,
      "outputs": [
        {
          "output_type": "stream",
          "text": [
            "Collecting boto3\n",
            "\u001b[?25l  Downloading https://files.pythonhosted.org/packages/59/7f/4ade91fbb684c6f28a6e56028d9f9d2de4297761850d083579779f07c0de/boto3-1.16.25-py2.py3-none-any.whl (129kB)\n",
            "\u001b[K     |████████████████████████████████| 133kB 5.6MB/s \n",
            "\u001b[?25hCollecting s3transfer<0.4.0,>=0.3.0\n",
            "\u001b[?25l  Downloading https://files.pythonhosted.org/packages/69/79/e6afb3d8b0b4e96cefbdc690f741d7dd24547ff1f94240c997a26fa908d3/s3transfer-0.3.3-py2.py3-none-any.whl (69kB)\n",
            "\u001b[K     |████████████████████████████████| 71kB 8.2MB/s \n",
            "\u001b[?25hCollecting jmespath<1.0.0,>=0.7.1\n",
            "  Downloading https://files.pythonhosted.org/packages/07/cb/5f001272b6faeb23c1c9e0acc04d48eaaf5c862c17709d20e3469c6e0139/jmespath-0.10.0-py2.py3-none-any.whl\n",
            "Collecting botocore<1.20.0,>=1.19.25\n",
            "\u001b[?25l  Downloading https://files.pythonhosted.org/packages/ef/d5/c0c33ca15e31062220ac5964f3492409eaf90a5cf5399503cd8264f2f8e9/botocore-1.19.25-py2.py3-none-any.whl (6.9MB)\n",
            "\u001b[K     |████████████████████████████████| 6.9MB 25.1MB/s \n",
            "\u001b[?25hRequirement already satisfied: python-dateutil<3.0.0,>=2.1 in /usr/local/lib/python3.6/dist-packages (from botocore<1.20.0,>=1.19.25->boto3) (2.8.1)\n",
            "Collecting urllib3<1.27,>=1.25.4; python_version != \"3.4\"\n",
            "\u001b[?25l  Downloading https://files.pythonhosted.org/packages/f5/71/45d36a8df68f3ebb098d6861b2c017f3d094538c0fb98fa61d4dc43e69b9/urllib3-1.26.2-py2.py3-none-any.whl (136kB)\n",
            "\u001b[K     |████████████████████████████████| 143kB 45.7MB/s \n",
            "\u001b[?25hRequirement already satisfied: six>=1.5 in /usr/local/lib/python3.6/dist-packages (from python-dateutil<3.0.0,>=2.1->botocore<1.20.0,>=1.19.25->boto3) (1.15.0)\n",
            "\u001b[31mERROR: requests 2.23.0 has requirement urllib3!=1.25.0,!=1.25.1,<1.26,>=1.21.1, but you'll have urllib3 1.26.2 which is incompatible.\u001b[0m\n",
            "\u001b[31mERROR: datascience 0.10.6 has requirement folium==0.2.1, but you'll have folium 0.8.3 which is incompatible.\u001b[0m\n",
            "Installing collected packages: jmespath, urllib3, botocore, s3transfer, boto3\n",
            "  Found existing installation: urllib3 1.24.3\n",
            "    Uninstalling urllib3-1.24.3:\n",
            "      Successfully uninstalled urllib3-1.24.3\n",
            "Successfully installed boto3-1.16.25 botocore-1.19.25 jmespath-0.10.0 s3transfer-0.3.3 urllib3-1.26.2\n"
          ],
          "name": "stdout"
        }
      ]
    },
    {
      "cell_type": "code",
      "metadata": {
        "id": "r213CWuYAsGU"
      },
      "source": [
        "import numpy as np\n",
        "import pandas as pd\n",
        "import boto3\n",
        "import botocore\n",
        "import csv\n",
        "from sklearn.model_selection import train_test_split\n",
        "import matplotlib.pyplot as plt\n",
        "import seaborn as sns\n",
        "from sklearn.linear_model import LogisticRegression\n",
        "from sklearn import metrics"
      ],
      "execution_count": 2,
      "outputs": []
    },
    {
      "cell_type": "markdown",
      "metadata": {
        "id": "uwTEphKtp7nW"
      },
      "source": [
        "## Read data from s3 bucket"
      ]
    },
    {
      "cell_type": "code",
      "metadata": {
        "id": "FHCBYiM1kW0N"
      },
      "source": [
        "\n",
        "session = boto3.session.Session(region_name='us-east-1')\n",
        "s3 = boto3.resource('s3', aws_access_key_id='xxxxxxxxxxxx',    #put your own aws access key id\n",
        "         aws_secret_access_key= 'xxxxxxxxxxxxxxxxxxxxxxxxxxxxxxxxxxxxxxxxxxx')  #your own aws secret access key\n"
      ],
      "execution_count": 3,
      "outputs": []
    },
    {
      "cell_type": "code",
      "metadata": {
        "id": "JtQLvCCsgbaD"
      },
      "source": [
        "bucket = s3.Bucket('ml-project-jm3309')\n",
        "\n",
        "loan_data_inputs_train1 = bucket.Object(key='credit-risk-model/loan_data_inputs_train.csv')\n",
        "loan_data_targets_train1 = bucket.Object(key='credit-risk-model/loan_data_targets_train.csv')\n",
        "loan_data_inputs_test1 = bucket.Object(key='credit-risk-model/loan_data_inputs_test.csv')\n",
        "loan_data_targets_test1 = bucket.Object(key='credit-risk-model/loan_data_targets_test.csv')\n",
        "\n",
        "loan_data_inputs_train = loan_data_inputs_train1.get()['Body']\n",
        "loan_data_targets_train = loan_data_targets_train1.get()['Body']\n",
        "loan_data_inputs_test = loan_data_inputs_test1.get()['Body']\n",
        "loan_data_targets_test = loan_data_targets_test1.get()['Body']\n"
      ],
      "execution_count": 4,
      "outputs": []
    },
    {
      "cell_type": "code",
      "metadata": {
        "id": "2z9pDNw7id-d"
      },
      "source": [
        "inputs_train = pd.read_csv(loan_data_inputs_train, index_col = 0)\n",
        "targets_train = pd.read_csv(loan_data_targets_train, index_col = 0) #\n",
        "inputs_test = pd.read_csv(loan_data_inputs_test, index_col = 0)\n",
        "targets_test = pd.read_csv(loan_data_targets_test, index_col = 0)#, header = None"
      ],
      "execution_count": 5,
      "outputs": []
    },
    {
      "cell_type": "code",
      "metadata": {
        "id": "3XBGoRtI0r1d"
      },
      "source": [
        "loan_data_inputs_train = inputs_train.copy()\n",
        "loan_data_targets_train =targets_train.copy()\n",
        "loan_data_inputs_test =inputs_test.copy()\n",
        "loan_data_targets_test =targets_test.copy()"
      ],
      "execution_count": 6,
      "outputs": []
    },
    {
      "cell_type": "code",
      "metadata": {
        "colab": {
          "base_uri": "https://localhost:8080/"
        },
        "id": "GYbk1X9r1BgS",
        "outputId": "fb6a9724-a22c-4ef4-a7f3-a02b99d9e108"
      },
      "source": [
        "print(loan_data_inputs_train.shape,loan_data_targets_train.shape,loan_data_inputs_test.shape,loan_data_targets_test.shape)"
      ],
      "execution_count": 7,
      "outputs": [
        {
          "output_type": "stream",
          "text": [
            "(373028, 298) (373028, 1) (93257, 298) (93257, 1)\n"
          ],
          "name": "stdout"
        }
      ]
    },
    {
      "cell_type": "markdown",
      "metadata": {
        "id": "SFUF5s510b29"
      },
      "source": [
        "## Selecting the Features"
      ]
    },
    {
      "cell_type": "code",
      "metadata": {
        "id": "Kr8pQrJ5_2I8"
      },
      "source": [
        "inputs_train_with_ref_cat = loan_data_inputs_train.loc[: , ['grade:A',\n",
        "'grade:B',\n",
        "'grade:C',\n",
        "'grade:D',\n",
        "'grade:E',\n",
        "'grade:F',\n",
        "'grade:G',\n",
        "#'home_ownership:RENT_OTHER_NONE_ANY',\n",
        "'home_ownership:OWN',\n",
        "'home_ownership:MORTGAGE',\n",
        "'addr_state:ND_NE_IA_NV_FL_HI_AL',\n",
        "'addr_state:NM_VA',\n",
        "'addr_state:NY',\n",
        "'addr_state:OK_TN_MO_LA_MD_NC',\n",
        "'addr_state:CA',\n",
        "'addr_state:UT_KY_AZ_NJ',\n",
        "'addr_state:AR_MI_PA_OH_MN',\n",
        "'addr_state:RI_MA_DE_SD_IN',\n",
        "'addr_state:GA_WA_OR',\n",
        "'addr_state:WI_MT',\n",
        "'addr_state:TX',\n",
        "'addr_state:IL_CT',\n",
        "'addr_state:KS_SC_CO_VT_AK_MS',\n",
        "'addr_state:WV_NH_WY_DC_ME_ID',\n",
        "'verification_status:Not Verified',\n",
        "'verification_status:Source Verified',\n",
        "'verification_status:Verified',\n",
        "'purpose:educ__sm_b__wedd__ren_en__mov__house',\n",
        "'purpose:credit_card',\n",
        "'purpose:debt_consolidation',\n",
        "'purpose:oth__med__vacation',\n",
        "'purpose:major_purch__car__home_impr',\n",
        "'initial_list_status:f',\n",
        "'initial_list_status:w',\n",
        "'term:36',\n",
        "'term:60',\n",
        "'emp_length:0',\n",
        "'emp_length:1',\n",
        "'emp_length:2-4',\n",
        "'emp_length:5-6',\n",
        "'emp_length:7-9',\n",
        "'emp_length:10',\n",
        "'mths_since_issue_d:<38',\n",
        "'mths_since_issue_d:38-39',\n",
        "'mths_since_issue_d:40-41',\n",
        "'mths_since_issue_d:42-48',\n",
        "'mths_since_issue_d:49-52',\n",
        "'mths_since_issue_d:53-64',\n",
        "'mths_since_issue_d:65-84',\n",
        "'mths_since_issue_d:>84',\n",
        "'int_rate:<9.548',\n",
        "'int_rate:9.548-12.025',\n",
        "'int_rate:12.025-15.74',\n",
        "'int_rate:15.74-20.281',\n",
        "'int_rate:>20.281',\n",
        "'mths_since_earliest_cr_line:<140',\n",
        "'mths_since_earliest_cr_line:141-164',\n",
        "'mths_since_earliest_cr_line:165-247',\n",
        "'mths_since_earliest_cr_line:248-270',\n",
        "'mths_since_earliest_cr_line:271-352',\n",
        "'mths_since_earliest_cr_line:>352',\n",
        "'inq_last_6mths:0',\n",
        "'inq_last_6mths:1-2',\n",
        "'inq_last_6mths:3-6',\n",
        "'inq_last_6mths:>6',\n",
        "'acc_now_delinq:0',\n",
        "'acc_now_delinq:>=1',\n",
        "'annual_inc:<20K',\n",
        "'annual_inc:20K-30K',\n",
        "'annual_inc:30K-40K',\n",
        "'annual_inc:40K-50K',\n",
        "'annual_inc:50K-60K',\n",
        "'annual_inc:60K-70K',\n",
        "'annual_inc:70K-80K',\n",
        "'annual_inc:80K-90K',\n",
        "'annual_inc:90K-100K',\n",
        "'annual_inc:100K-120K',\n",
        "'annual_inc:120K-140K',\n",
        "'annual_inc:>140K',\n",
        "'dti:<=1.4',\n",
        "'dti:1.4-3.5',\n",
        "'dti:3.5-7.7',\n",
        "'dti:7.7-10.5',\n",
        "'dti:10.5-16.1',\n",
        "'dti:16.1-20.3',\n",
        "'dti:20.3-21.7',\n",
        "'dti:21.7-22.4',\n",
        "'dti:22.4-35',\n",
        "'dti:>35',\n",
        "'mths_since_last_delinq:Missing',\n",
        "'mths_since_last_delinq:0-3',\n",
        "'mths_since_last_delinq:4-30',\n",
        "'mths_since_last_delinq:31-56',\n",
        "'mths_since_last_delinq:>=57',\n",
        "#'mths_since_last_record:Missing',\n",
        "#'mths_since_last_record:0-2',\n",
        "##'mths_since_last_record:3-20',\n",
        "#'mths_since_last_record:21-31',\n",
        "#'mths_since_last_record:32-80',\n",
        "##'mths_since_last_record:81-86',\n",
        "#'mths_since_last_record:>=86',\n",
        "]]"
      ],
      "execution_count": 8,
      "outputs": []
    },
    {
      "cell_type": "code",
      "metadata": {
        "id": "2WFobeHh3Fmh"
      },
      "source": [
        "# Here we store the names of the reference category dummy variables in a list.\n",
        "ref_categories = ['grade:G',\n",
        "'addr_state:ND_NE_IA_NV_FL_HI_AL',\n",
        "'verification_status:Verified',\n",
        "'purpose:educ__sm_b__wedd__ren_en__mov__house',\n",
        "'initial_list_status:f',\n",
        "'term:60',\n",
        "'emp_length:0',\n",
        "'mths_since_issue_d:>84',\n",
        "'int_rate:>20.281',\n",
        "'mths_since_earliest_cr_line:<140',\n",
        "'inq_last_6mths:>6',\n",
        "'acc_now_delinq:0',\n",
        "'annual_inc:<20K',\n",
        "'dti:>35',\n",
        "'mths_since_last_delinq:0-3',\n",
        "]"
      ],
      "execution_count": 9,
      "outputs": []
    },
    {
      "cell_type": "code",
      "metadata": {
        "colab": {
          "base_uri": "https://localhost:8080/"
        },
        "id": "MmY3n-nJ3o6-",
        "outputId": "e11825d9-d54d-489e-87b0-1ad3eda22110"
      },
      "source": [
        "inputs_train = inputs_train_with_ref_cat.drop(ref_categories, axis = 1)\n",
        "# From the dataframe with input variables, we drop the variables with variable names in the list with reference categories. \n",
        "inputs_train.shape"
      ],
      "execution_count": 10,
      "outputs": [
        {
          "output_type": "execute_result",
          "data": {
            "text/plain": [
              "(373028, 78)"
            ]
          },
          "metadata": {
            "tags": []
          },
          "execution_count": 10
        }
      ]
    },
    {
      "cell_type": "code",
      "metadata": {
        "id": "DPcQ-a2_-9Rg"
      },
      "source": [
        "inputs_train = inputs_train.fillna(lambda x: x.median())\n",
        "loan_data_targets_train = loan_data_targets_train.fillna(lambda x: x.median())"
      ],
      "execution_count": 11,
      "outputs": []
    },
    {
      "cell_type": "code",
      "metadata": {
        "colab": {
          "base_uri": "https://localhost:8080/"
        },
        "id": "L5KrddNd_Xkr",
        "outputId": "321905ce-ed41-490d-deae-ba4c6bc208b8"
      },
      "source": [
        "inputs_train.shape"
      ],
      "execution_count": 12,
      "outputs": [
        {
          "output_type": "execute_result",
          "data": {
            "text/plain": [
              "(373028, 78)"
            ]
          },
          "metadata": {
            "tags": []
          },
          "execution_count": 12
        }
      ]
    },
    {
      "cell_type": "markdown",
      "metadata": {
        "id": "HSvEEt4Y3yDA"
      },
      "source": [
        "## PD model estimation\n"
      ]
    },
    {
      "cell_type": "markdown",
      "metadata": {
        "id": "RJixX6fe31jw"
      },
      "source": [
        "### logistic regression with P- value\n"
      ]
    },
    {
      "cell_type": "code",
      "metadata": {
        "id": "GCqKkV0WBqK-"
      },
      "source": [
        "import logistic_regression_with_pvalue as log_p"
      ],
      "execution_count": 14,
      "outputs": []
    },
    {
      "cell_type": "code",
      "metadata": {
        "id": "pjD2dEQ5DMme"
      },
      "source": [
        "reg = log_p.LogisticRegression_with_p_values()"
      ],
      "execution_count": 15,
      "outputs": []
    },
    {
      "cell_type": "code",
      "metadata": {
        "colab": {
          "base_uri": "https://localhost:8080/"
        },
        "id": "-D7bK9mQEBE1",
        "outputId": "c3333299-fbff-481b-a040-522df008661e"
      },
      "source": [
        "reg.fit(inputs_train, loan_data_targets_train)"
      ],
      "execution_count": 16,
      "outputs": [
        {
          "output_type": "stream",
          "text": [
            "/usr/local/lib/python3.6/dist-packages/sklearn/utils/validation.py:760: DataConversionWarning: A column-vector y was passed when a 1d array was expected. Please change the shape of y to (n_samples, ), for example using ravel().\n",
            "  y = column_or_1d(y, warn=True)\n",
            "/usr/local/lib/python3.6/dist-packages/sklearn/linear_model/_logistic.py:940: ConvergenceWarning: lbfgs failed to converge (status=1):\n",
            "STOP: TOTAL NO. of ITERATIONS REACHED LIMIT.\n",
            "\n",
            "Increase the number of iterations (max_iter) or scale the data as shown in:\n",
            "    https://scikit-learn.org/stable/modules/preprocessing.html\n",
            "Please also refer to the documentation for alternative solver options:\n",
            "    https://scikit-learn.org/stable/modules/linear_model.html#logistic-regression\n",
            "  extra_warning_msg=_LOGISTIC_SOLVER_CONVERGENCE_MSG)\n"
          ],
          "name": "stderr"
        }
      ]
    },
    {
      "cell_type": "code",
      "metadata": {
        "colab": {
          "base_uri": "https://localhost:8080/",
          "height": 410
        },
        "id": "DhDNSwMIEEI0",
        "outputId": "b4753d14-8ee0-44e9-8de3-4bd00a4072cc"
      },
      "source": [
        "feature_name = inputs_train.columns.values\n",
        "summary_table = pd.DataFrame(columns = ['Feature name'], data = feature_name)\n",
        "summary_table['Coefficients'] = np.transpose(reg.coef_)\n",
        "summary_table.index = summary_table.index + 1\n",
        "summary_table.loc[0] = ['Intercept', reg.intercept_[0]]\n",
        "summary_table = summary_table.sort_index()\n",
        "p_values = reg.p_values\n",
        "p_values = np.append(np.nan, np.array(p_values))\n",
        "summary_table['p_values'] = p_values\n",
        "summary_table"
      ],
      "execution_count": 17,
      "outputs": [
        {
          "output_type": "execute_result",
          "data": {
            "text/html": [
              "<div>\n",
              "<style scoped>\n",
              "    .dataframe tbody tr th:only-of-type {\n",
              "        vertical-align: middle;\n",
              "    }\n",
              "\n",
              "    .dataframe tbody tr th {\n",
              "        vertical-align: top;\n",
              "    }\n",
              "\n",
              "    .dataframe thead th {\n",
              "        text-align: right;\n",
              "    }\n",
              "</style>\n",
              "<table border=\"1\" class=\"dataframe\">\n",
              "  <thead>\n",
              "    <tr style=\"text-align: right;\">\n",
              "      <th></th>\n",
              "      <th>Feature name</th>\n",
              "      <th>Coefficients</th>\n",
              "      <th>p_values</th>\n",
              "    </tr>\n",
              "  </thead>\n",
              "  <tbody>\n",
              "    <tr>\n",
              "      <th>0</th>\n",
              "      <td>Intercept</td>\n",
              "      <td>-1.256114</td>\n",
              "      <td>NaN</td>\n",
              "    </tr>\n",
              "    <tr>\n",
              "      <th>1</th>\n",
              "      <td>grade:A</td>\n",
              "      <td>1.161767</td>\n",
              "      <td>6.465676e-38</td>\n",
              "    </tr>\n",
              "    <tr>\n",
              "      <th>2</th>\n",
              "      <td>grade:B</td>\n",
              "      <td>0.909561</td>\n",
              "      <td>6.094487e-51</td>\n",
              "    </tr>\n",
              "    <tr>\n",
              "      <th>3</th>\n",
              "      <td>grade:C</td>\n",
              "      <td>0.710984</td>\n",
              "      <td>7.723880e-37</td>\n",
              "    </tr>\n",
              "    <tr>\n",
              "      <th>4</th>\n",
              "      <td>grade:D</td>\n",
              "      <td>0.519149</td>\n",
              "      <td>1.353487e-22</td>\n",
              "    </tr>\n",
              "    <tr>\n",
              "      <th>...</th>\n",
              "      <td>...</td>\n",
              "      <td>...</td>\n",
              "      <td>...</td>\n",
              "    </tr>\n",
              "    <tr>\n",
              "      <th>74</th>\n",
              "      <td>dti:22.4-35</td>\n",
              "      <td>0.064989</td>\n",
              "      <td>2.505056e-01</td>\n",
              "    </tr>\n",
              "    <tr>\n",
              "      <th>75</th>\n",
              "      <td>mths_since_last_delinq:Missing</td>\n",
              "      <td>0.183465</td>\n",
              "      <td>9.662150e-05</td>\n",
              "    </tr>\n",
              "    <tr>\n",
              "      <th>76</th>\n",
              "      <td>mths_since_last_delinq:4-30</td>\n",
              "      <td>0.208710</td>\n",
              "      <td>1.341142e-05</td>\n",
              "    </tr>\n",
              "    <tr>\n",
              "      <th>77</th>\n",
              "      <td>mths_since_last_delinq:31-56</td>\n",
              "      <td>0.259619</td>\n",
              "      <td>9.373489e-08</td>\n",
              "    </tr>\n",
              "    <tr>\n",
              "      <th>78</th>\n",
              "      <td>mths_since_last_delinq:&gt;=57</td>\n",
              "      <td>0.223455</td>\n",
              "      <td>7.782725e-06</td>\n",
              "    </tr>\n",
              "  </tbody>\n",
              "</table>\n",
              "<p>79 rows × 3 columns</p>\n",
              "</div>"
            ],
            "text/plain": [
              "                      Feature name  Coefficients      p_values\n",
              "0                        Intercept     -1.256114           NaN\n",
              "1                          grade:A      1.161767  6.465676e-38\n",
              "2                          grade:B      0.909561  6.094487e-51\n",
              "3                          grade:C      0.710984  7.723880e-37\n",
              "4                          grade:D      0.519149  1.353487e-22\n",
              "..                             ...           ...           ...\n",
              "74                     dti:22.4-35      0.064989  2.505056e-01\n",
              "75  mths_since_last_delinq:Missing      0.183465  9.662150e-05\n",
              "76     mths_since_last_delinq:4-30      0.208710  1.341142e-05\n",
              "77    mths_since_last_delinq:31-56      0.259619  9.373489e-08\n",
              "78     mths_since_last_delinq:>=57      0.223455  7.782725e-06\n",
              "\n",
              "[79 rows x 3 columns]"
            ]
          },
          "metadata": {
            "tags": []
          },
          "execution_count": 17
        }
      ]
    },
    {
      "cell_type": "code",
      "metadata": {
        "id": "B5JD32MtFGRL"
      },
      "source": [
        "import pickle"
      ],
      "execution_count": 18,
      "outputs": []
    },
    {
      "cell_type": "code",
      "metadata": {
        "id": "cg2xq7WFFJLC"
      },
      "source": [
        "pickle.dump(reg, open('pd_model.sav', 'wb'))"
      ],
      "execution_count": 19,
      "outputs": []
    },
    {
      "cell_type": "markdown",
      "metadata": {
        "id": "ysDhPkdrMVe9"
      },
      "source": [
        "## PD model validation(Test)\n"
      ]
    },
    {
      "cell_type": "markdown",
      "metadata": {
        "id": "PLbbaat7PeJv"
      },
      "source": [
        ""
      ]
    },
    {
      "cell_type": "code",
      "metadata": {
        "id": "YUl9r_X9PdnE"
      },
      "source": [
        "inputs_test_with_ref_cat = loan_data_inputs_test.loc[: , ['grade:A',\n",
        "'grade:B',\n",
        "'grade:C',\n",
        "'grade:D',\n",
        "'grade:E',\n",
        "'grade:F',\n",
        "'grade:G',\n",
        "#'home_ownership:RENT_OTHER_NONE_ANY',\n",
        "'home_ownership:OWN',\n",
        "'home_ownership:MORTGAGE',\n",
        "'addr_state:ND_NE_IA_NV_FL_HI_AL',\n",
        "'addr_state:NM_VA',\n",
        "'addr_state:NY',\n",
        "'addr_state:OK_TN_MO_LA_MD_NC',\n",
        "'addr_state:CA',\n",
        "'addr_state:UT_KY_AZ_NJ',\n",
        "'addr_state:AR_MI_PA_OH_MN',\n",
        "'addr_state:RI_MA_DE_SD_IN',\n",
        "'addr_state:GA_WA_OR',\n",
        "'addr_state:WI_MT',\n",
        "'addr_state:TX',\n",
        "'addr_state:IL_CT',\n",
        "'addr_state:KS_SC_CO_VT_AK_MS',\n",
        "'addr_state:WV_NH_WY_DC_ME_ID',\n",
        "'verification_status:Not Verified',\n",
        "'verification_status:Source Verified',\n",
        "'verification_status:Verified',\n",
        "'purpose:educ__sm_b__wedd__ren_en__mov__house',\n",
        "'purpose:credit_card',\n",
        "'purpose:debt_consolidation',\n",
        "'purpose:oth__med__vacation',\n",
        "'purpose:major_purch__car__home_impr',\n",
        "'initial_list_status:f',\n",
        "'initial_list_status:w',\n",
        "'term:36',\n",
        "'term:60',\n",
        "'emp_length:0',\n",
        "'emp_length:1',\n",
        "'emp_length:2-4',\n",
        "'emp_length:5-6',\n",
        "'emp_length:7-9',\n",
        "'emp_length:10',\n",
        "'mths_since_issue_d:<38',\n",
        "'mths_since_issue_d:38-39',\n",
        "'mths_since_issue_d:40-41',\n",
        "'mths_since_issue_d:42-48',\n",
        "'mths_since_issue_d:49-52',\n",
        "'mths_since_issue_d:53-64',\n",
        "'mths_since_issue_d:65-84',\n",
        "'mths_since_issue_d:>84',\n",
        "'int_rate:<9.548',\n",
        "'int_rate:9.548-12.025',\n",
        "'int_rate:12.025-15.74',\n",
        "'int_rate:15.74-20.281',\n",
        "'int_rate:>20.281',\n",
        "'mths_since_earliest_cr_line:<140',\n",
        "'mths_since_earliest_cr_line:141-164',\n",
        "'mths_since_earliest_cr_line:165-247',\n",
        "'mths_since_earliest_cr_line:248-270',\n",
        "'mths_since_earliest_cr_line:271-352',\n",
        "'mths_since_earliest_cr_line:>352',\n",
        "'inq_last_6mths:0',\n",
        "'inq_last_6mths:1-2',\n",
        "'inq_last_6mths:3-6',\n",
        "'inq_last_6mths:>6',\n",
        "'acc_now_delinq:0',\n",
        "'acc_now_delinq:>=1',\n",
        "'annual_inc:<20K',\n",
        "'annual_inc:20K-30K',\n",
        "'annual_inc:30K-40K',\n",
        "'annual_inc:40K-50K',\n",
        "'annual_inc:50K-60K',\n",
        "'annual_inc:60K-70K',\n",
        "'annual_inc:70K-80K',\n",
        "'annual_inc:80K-90K',\n",
        "'annual_inc:90K-100K',\n",
        "'annual_inc:100K-120K',\n",
        "'annual_inc:120K-140K',\n",
        "'annual_inc:>140K',\n",
        "'dti:<=1.4',\n",
        "'dti:1.4-3.5',\n",
        "'dti:3.5-7.7',\n",
        "'dti:7.7-10.5',\n",
        "'dti:10.5-16.1',\n",
        "'dti:16.1-20.3',\n",
        "'dti:20.3-21.7',\n",
        "'dti:21.7-22.4',\n",
        "'dti:22.4-35',\n",
        "'dti:>35',\n",
        "'mths_since_last_delinq:Missing',\n",
        "'mths_since_last_delinq:0-3',\n",
        "'mths_since_last_delinq:4-30',\n",
        "'mths_since_last_delinq:31-56',\n",
        "'mths_since_last_delinq:>=57',\n",
        "#'mths_since_last_record:Missing',\n",
        "#'mths_since_last_record:0-2',\n",
        "##'mths_since_last_record:3-20',\n",
        "#'mths_since_last_record:21-31',\n",
        "#'mths_since_last_record:32-80',\n",
        "##'mths_since_last_record:81-86',\n",
        "#'mths_since_last_record:>=86',\n",
        "]]"
      ],
      "execution_count": 20,
      "outputs": []
    },
    {
      "cell_type": "code",
      "metadata": {
        "colab": {
          "base_uri": "https://localhost:8080/"
        },
        "id": "Meg6R5QIQLTe",
        "outputId": "d4b0538e-23bb-4fcc-d975-0fd3c14d3ee8"
      },
      "source": [
        "inputs_test = inputs_test_with_ref_cat.drop(ref_categories, axis = 1)\n",
        "inputs_test.shape"
      ],
      "execution_count": 21,
      "outputs": [
        {
          "output_type": "execute_result",
          "data": {
            "text/plain": [
              "(93257, 78)"
            ]
          },
          "metadata": {
            "tags": []
          },
          "execution_count": 21
        }
      ]
    },
    {
      "cell_type": "code",
      "metadata": {
        "id": "VHAktUaFTL-2"
      },
      "source": [
        "y_hat_test = reg.model.predict(inputs_test)\n",
        "y_hat_test_proba = reg.model.predict_proba(inputs_test)"
      ],
      "execution_count": 22,
      "outputs": []
    },
    {
      "cell_type": "code",
      "metadata": {
        "id": "2DrYudK0TOrQ"
      },
      "source": [
        "y_hat_test_proba = y_hat_test_proba[: ][: , 1]"
      ],
      "execution_count": 23,
      "outputs": []
    },
    {
      "cell_type": "code",
      "metadata": {
        "id": "7ahCQyMHTYV-"
      },
      "source": [
        "loan_data_targets_test_temp = loan_data_targets_test"
      ],
      "execution_count": 24,
      "outputs": []
    },
    {
      "cell_type": "code",
      "metadata": {
        "id": "z3jTv-0PTZO2"
      },
      "source": [
        "loan_data_targets_test_temp.reset_index(drop = True, inplace = True)"
      ],
      "execution_count": 25,
      "outputs": []
    },
    {
      "cell_type": "code",
      "metadata": {
        "id": "5E_mg7KcTdTm"
      },
      "source": [
        "df_actual_predicted_probs = pd.concat([loan_data_targets_test_temp, pd.DataFrame(y_hat_test_proba)], axis = 1)"
      ],
      "execution_count": 26,
      "outputs": []
    },
    {
      "cell_type": "code",
      "metadata": {
        "colab": {
          "base_uri": "https://localhost:8080/"
        },
        "id": "J1sy-gZXTf_H",
        "outputId": "5a0a1233-f7bf-4b47-dd9a-538dfb4fd0b3"
      },
      "source": [
        "df_actual_predicted_probs.shape"
      ],
      "execution_count": 27,
      "outputs": [
        {
          "output_type": "execute_result",
          "data": {
            "text/plain": [
              "(93257, 2)"
            ]
          },
          "metadata": {
            "tags": []
          },
          "execution_count": 27
        }
      ]
    },
    {
      "cell_type": "code",
      "metadata": {
        "colab": {
          "base_uri": "https://localhost:8080/",
          "height": 0
        },
        "id": "5dCDTt0bTgto",
        "outputId": "49923eb4-9004-4e19-c94b-e4b3c933e461"
      },
      "source": [
        "df_actual_predicted_probs.columns = ['loan_data_targets_test', 'y_hat_test_proba']\n",
        "df_actual_predicted_probs.index = loan_data_inputs_test.index\n",
        "df_actual_predicted_probs.head()"
      ],
      "execution_count": 28,
      "outputs": [
        {
          "output_type": "execute_result",
          "data": {
            "text/html": [
              "<div>\n",
              "<style scoped>\n",
              "    .dataframe tbody tr th:only-of-type {\n",
              "        vertical-align: middle;\n",
              "    }\n",
              "\n",
              "    .dataframe tbody tr th {\n",
              "        vertical-align: top;\n",
              "    }\n",
              "\n",
              "    .dataframe thead th {\n",
              "        text-align: right;\n",
              "    }\n",
              "</style>\n",
              "<table border=\"1\" class=\"dataframe\">\n",
              "  <thead>\n",
              "    <tr style=\"text-align: right;\">\n",
              "      <th></th>\n",
              "      <th>loan_data_targets_test</th>\n",
              "      <th>y_hat_test_proba</th>\n",
              "    </tr>\n",
              "  </thead>\n",
              "  <tbody>\n",
              "    <tr>\n",
              "      <th>362514</th>\n",
              "      <td>1</td>\n",
              "      <td>0.925377</td>\n",
              "    </tr>\n",
              "    <tr>\n",
              "      <th>288564</th>\n",
              "      <td>1</td>\n",
              "      <td>0.841643</td>\n",
              "    </tr>\n",
              "    <tr>\n",
              "      <th>213591</th>\n",
              "      <td>1</td>\n",
              "      <td>0.885692</td>\n",
              "    </tr>\n",
              "    <tr>\n",
              "      <th>263083</th>\n",
              "      <td>1</td>\n",
              "      <td>0.941302</td>\n",
              "    </tr>\n",
              "    <tr>\n",
              "      <th>165001</th>\n",
              "      <td>1</td>\n",
              "      <td>0.968927</td>\n",
              "    </tr>\n",
              "  </tbody>\n",
              "</table>\n",
              "</div>"
            ],
            "text/plain": [
              "        loan_data_targets_test  y_hat_test_proba\n",
              "362514                       1          0.925377\n",
              "288564                       1          0.841643\n",
              "213591                       1          0.885692\n",
              "263083                       1          0.941302\n",
              "165001                       1          0.968927"
            ]
          },
          "metadata": {
            "tags": []
          },
          "execution_count": 28
        }
      ]
    },
    {
      "cell_type": "markdown",
      "metadata": {
        "id": "G2qs4fwCPRlr"
      },
      "source": [
        "## Accuracy and Area under the Curve"
      ]
    },
    {
      "cell_type": "code",
      "metadata": {
        "id": "4Il5NuyfPRlr"
      },
      "source": [
        "tr = 0.9\n",
        "\n",
        "df_actual_predicted_probs['y_hat_test'] = np.where(df_actual_predicted_probs['y_hat_test_proba'] > tr, 1, 0)"
      ],
      "execution_count": 29,
      "outputs": []
    },
    {
      "cell_type": "code",
      "metadata": {
        "scrolled": true,
        "id": "3FtAWi3ZPRlr",
        "colab": {
          "base_uri": "https://localhost:8080/",
          "height": 0
        },
        "outputId": "c156d872-75b4-46bf-8e42-ac4a0f77ae65"
      },
      "source": [
        "#Confusion Matrix.\n",
        "pd.crosstab(df_actual_predicted_probs['loan_data_targets_test'], df_actual_predicted_probs['y_hat_test'], rownames = ['Actual'], colnames = ['Predicted'])"
      ],
      "execution_count": 30,
      "outputs": [
        {
          "output_type": "execute_result",
          "data": {
            "text/html": [
              "<div>\n",
              "<style scoped>\n",
              "    .dataframe tbody tr th:only-of-type {\n",
              "        vertical-align: middle;\n",
              "    }\n",
              "\n",
              "    .dataframe tbody tr th {\n",
              "        vertical-align: top;\n",
              "    }\n",
              "\n",
              "    .dataframe thead th {\n",
              "        text-align: right;\n",
              "    }\n",
              "</style>\n",
              "<table border=\"1\" class=\"dataframe\">\n",
              "  <thead>\n",
              "    <tr style=\"text-align: right;\">\n",
              "      <th>Predicted</th>\n",
              "      <th>0</th>\n",
              "      <th>1</th>\n",
              "    </tr>\n",
              "    <tr>\n",
              "      <th>Actual</th>\n",
              "      <th></th>\n",
              "      <th></th>\n",
              "    </tr>\n",
              "  </thead>\n",
              "  <tbody>\n",
              "    <tr>\n",
              "      <th>0</th>\n",
              "      <td>7375</td>\n",
              "      <td>2815</td>\n",
              "    </tr>\n",
              "    <tr>\n",
              "      <th>1</th>\n",
              "      <td>35907</td>\n",
              "      <td>47160</td>\n",
              "    </tr>\n",
              "  </tbody>\n",
              "</table>\n",
              "</div>"
            ],
            "text/plain": [
              "Predicted      0      1\n",
              "Actual                 \n",
              "0           7375   2815\n",
              "1          35907  47160"
            ]
          },
          "metadata": {
            "tags": []
          },
          "execution_count": 30
        }
      ]
    },
    {
      "cell_type": "code",
      "metadata": {
        "id": "KWZpZ_5NPRlr",
        "colab": {
          "base_uri": "https://localhost:8080/",
          "height": 0
        },
        "outputId": "cffe3156-f456-44a3-a2ca-490a0d335a55"
      },
      "source": [
        "# percentage Confusion Matrix.\n",
        "pd.crosstab(df_actual_predicted_probs['loan_data_targets_test'], df_actual_predicted_probs['y_hat_test'], rownames = ['Actual'], colnames = ['Predicted']) / df_actual_predicted_probs.shape[0]"
      ],
      "execution_count": 31,
      "outputs": [
        {
          "output_type": "execute_result",
          "data": {
            "text/html": [
              "<div>\n",
              "<style scoped>\n",
              "    .dataframe tbody tr th:only-of-type {\n",
              "        vertical-align: middle;\n",
              "    }\n",
              "\n",
              "    .dataframe tbody tr th {\n",
              "        vertical-align: top;\n",
              "    }\n",
              "\n",
              "    .dataframe thead th {\n",
              "        text-align: right;\n",
              "    }\n",
              "</style>\n",
              "<table border=\"1\" class=\"dataframe\">\n",
              "  <thead>\n",
              "    <tr style=\"text-align: right;\">\n",
              "      <th>Predicted</th>\n",
              "      <th>0</th>\n",
              "      <th>1</th>\n",
              "    </tr>\n",
              "    <tr>\n",
              "      <th>Actual</th>\n",
              "      <th></th>\n",
              "      <th></th>\n",
              "    </tr>\n",
              "  </thead>\n",
              "  <tbody>\n",
              "    <tr>\n",
              "      <th>0</th>\n",
              "      <td>0.079083</td>\n",
              "      <td>0.030185</td>\n",
              "    </tr>\n",
              "    <tr>\n",
              "      <th>1</th>\n",
              "      <td>0.385033</td>\n",
              "      <td>0.505699</td>\n",
              "    </tr>\n",
              "  </tbody>\n",
              "</table>\n",
              "</div>"
            ],
            "text/plain": [
              "Predicted         0         1\n",
              "Actual                       \n",
              "0          0.079083  0.030185\n",
              "1          0.385033  0.505699"
            ]
          },
          "metadata": {
            "tags": []
          },
          "execution_count": 31
        }
      ]
    },
    {
      "cell_type": "code",
      "metadata": {
        "id": "Gk4vUdyWPRlr",
        "colab": {
          "base_uri": "https://localhost:8080/"
        },
        "outputId": "6a39cf7e-a61e-41ec-82b8-d286315c4882"
      },
      "source": [
        "print(\"The accuracy in this PD logistic model is: \", ((pd.crosstab(df_actual_predicted_probs['loan_data_targets_test'], \n",
        "                                                              df_actual_predicted_probs['y_hat_test'], \n",
        "                                                              rownames = ['Actual'], \n",
        "                                                              colnames = ['Predicted']) / df_actual_predicted_probs.shape[0]).iloc[0, 0] \n",
        "                                                              + (pd.crosstab(df_actual_predicted_probs['loan_data_targets_test'],\n",
        "                                                                             df_actual_predicted_probs['y_hat_test'],\n",
        "                                                                             rownames = ['Actual'], \n",
        "                                                                             colnames = ['Predicted']) / df_actual_predicted_probs.shape[0]).iloc[1, 1]))\n",
        "# Here we calculate Accuracy of the model, which is the sum of the diagonal rates."
      ],
      "execution_count": 32,
      "outputs": [
        {
          "output_type": "stream",
          "text": [
            "The accuracy in this PD logistic model is:  0.5847818394329648\n"
          ],
          "name": "stdout"
        }
      ]
    },
    {
      "cell_type": "code",
      "metadata": {
        "id": "kR2p3WgBPRlr"
      },
      "source": [
        "from sklearn.metrics import roc_curve, roc_auc_score"
      ],
      "execution_count": 33,
      "outputs": []
    },
    {
      "cell_type": "code",
      "metadata": {
        "id": "Gca399I9PRlr"
      },
      "source": [
        "fpr, tpr, thresholds = roc_curve(df_actual_predicted_probs['loan_data_targets_test'], df_actual_predicted_probs['y_hat_test_proba'])\n",
        "# Here we store each of the three arrays in a separate variable. "
      ],
      "execution_count": 34,
      "outputs": []
    },
    {
      "cell_type": "code",
      "metadata": {
        "id": "KU72M-wfPRlr"
      },
      "source": [
        "import matplotlib.pyplot as plt\n",
        "import seaborn as sns\n",
        "sns.set()"
      ],
      "execution_count": 35,
      "outputs": []
    },
    {
      "cell_type": "code",
      "metadata": {
        "scrolled": true,
        "id": "u4u9BOP_PRlr",
        "colab": {
          "base_uri": "https://localhost:8080/",
          "height": 0
        },
        "outputId": "078e031c-e418-4492-a151-f439f8aec128"
      },
      "source": [
        "plt.plot(fpr, tpr)\n",
        "# We plot the false positive rate along the x-axis and the true positive rate along the y-axis,\n",
        "# thus plotting the ROC curve.\n",
        "plt.plot(fpr, fpr, linestyle = '--', color = 'k')\n",
        "# We plot a seconary diagonal line, with dashed line style and black color.\n",
        "plt.xlabel('False positive rate')\n",
        "# We name the x-axis \"False positive rate\".\n",
        "plt.ylabel('True positive rate')\n",
        "# We name the x-axis \"True positive rate\".\n",
        "plt.title('ROC curve')\n",
        "# We name the graph \"ROC curve\"."
      ],
      "execution_count": 36,
      "outputs": [
        {
          "output_type": "execute_result",
          "data": {
            "text/plain": [
              "Text(0.5, 1.0, 'ROC curve')"
            ]
          },
          "metadata": {
            "tags": []
          },
          "execution_count": 36
        },
        {
          "output_type": "display_data",
          "data": {
            "image/png": "[encoded data removed]",
            "text/plain": [
              "<Figure size 432x288 with 1 Axes>"
            ]
          },
          "metadata": {
            "tags": []
          }
        }
      ]
    },
    {
      "cell_type": "code",
      "metadata": {
        "id": "YKut3zSLPRlr",
        "colab": {
          "base_uri": "https://localhost:8080/"
        },
        "outputId": "fbf3e41c-b70d-4c22-e285-dac04fd70e82"
      },
      "source": [
        "AUROC = roc_auc_score(df_actual_predicted_probs['loan_data_targets_test'], df_actual_predicted_probs['y_hat_test_proba'])\n",
        "print(\"The AUROC here is:\",AUROC)"
      ],
      "execution_count": 37,
      "outputs": [
        {
          "output_type": "stream",
          "text": [
            "The AUROC here is: 0.7012528401910878\n"
          ],
          "name": "stdout"
        }
      ]
    },
    {
      "cell_type": "markdown",
      "metadata": {
        "id": "A0W08lAC8UOu"
      },
      "source": [
        "# Applying the PD Model"
      ]
    },
    {
      "cell_type": "markdown",
      "metadata": {
        "id": "LwM2ZXg-8UOu"
      },
      "source": [
        "### Creating a Scorecard"
      ]
    },
    {
      "cell_type": "code",
      "metadata": {
        "id": "1G1M_Ue68UOu",
        "colab": {
          "base_uri": "https://localhost:8080/",
          "height": 410
        },
        "outputId": "5c001df7-4de3-4b68-f4ea-b3b27710ca33"
      },
      "source": [
        "summary_table"
      ],
      "execution_count": 38,
      "outputs": [
        {
          "output_type": "execute_result",
          "data": {
            "text/html": [
              "<div>\n",
              "<style scoped>\n",
              "    .dataframe tbody tr th:only-of-type {\n",
              "        vertical-align: middle;\n",
              "    }\n",
              "\n",
              "    .dataframe tbody tr th {\n",
              "        vertical-align: top;\n",
              "    }\n",
              "\n",
              "    .dataframe thead th {\n",
              "        text-align: right;\n",
              "    }\n",
              "</style>\n",
              "<table border=\"1\" class=\"dataframe\">\n",
              "  <thead>\n",
              "    <tr style=\"text-align: right;\">\n",
              "      <th></th>\n",
              "      <th>Feature name</th>\n",
              "      <th>Coefficients</th>\n",
              "      <th>p_values</th>\n",
              "    </tr>\n",
              "  </thead>\n",
              "  <tbody>\n",
              "    <tr>\n",
              "      <th>0</th>\n",
              "      <td>Intercept</td>\n",
              "      <td>-1.256114</td>\n",
              "      <td>NaN</td>\n",
              "    </tr>\n",
              "    <tr>\n",
              "      <th>1</th>\n",
              "      <td>grade:A</td>\n",
              "      <td>1.161767</td>\n",
              "      <td>6.465676e-38</td>\n",
              "    </tr>\n",
              "    <tr>\n",
              "      <th>2</th>\n",
              "      <td>grade:B</td>\n",
              "      <td>0.909561</td>\n",
              "      <td>6.094487e-51</td>\n",
              "    </tr>\n",
              "    <tr>\n",
              "      <th>3</th>\n",
              "      <td>grade:C</td>\n",
              "      <td>0.710984</td>\n",
              "      <td>7.723880e-37</td>\n",
              "    </tr>\n",
              "    <tr>\n",
              "      <th>4</th>\n",
              "      <td>grade:D</td>\n",
              "      <td>0.519149</td>\n",
              "      <td>1.353487e-22</td>\n",
              "    </tr>\n",
              "    <tr>\n",
              "      <th>...</th>\n",
              "      <td>...</td>\n",
              "      <td>...</td>\n",
              "      <td>...</td>\n",
              "    </tr>\n",
              "    <tr>\n",
              "      <th>74</th>\n",
              "      <td>dti:22.4-35</td>\n",
              "      <td>0.064989</td>\n",
              "      <td>2.505056e-01</td>\n",
              "    </tr>\n",
              "    <tr>\n",
              "      <th>75</th>\n",
              "      <td>mths_since_last_delinq:Missing</td>\n",
              "      <td>0.183465</td>\n",
              "      <td>9.662150e-05</td>\n",
              "    </tr>\n",
              "    <tr>\n",
              "      <th>76</th>\n",
              "      <td>mths_since_last_delinq:4-30</td>\n",
              "      <td>0.208710</td>\n",
              "      <td>1.341142e-05</td>\n",
              "    </tr>\n",
              "    <tr>\n",
              "      <th>77</th>\n",
              "      <td>mths_since_last_delinq:31-56</td>\n",
              "      <td>0.259619</td>\n",
              "      <td>9.373489e-08</td>\n",
              "    </tr>\n",
              "    <tr>\n",
              "      <th>78</th>\n",
              "      <td>mths_since_last_delinq:&gt;=57</td>\n",
              "      <td>0.223455</td>\n",
              "      <td>7.782725e-06</td>\n",
              "    </tr>\n",
              "  </tbody>\n",
              "</table>\n",
              "<p>79 rows × 3 columns</p>\n",
              "</div>"
            ],
            "text/plain": [
              "                      Feature name  Coefficients      p_values\n",
              "0                        Intercept     -1.256114           NaN\n",
              "1                          grade:A      1.161767  6.465676e-38\n",
              "2                          grade:B      0.909561  6.094487e-51\n",
              "3                          grade:C      0.710984  7.723880e-37\n",
              "4                          grade:D      0.519149  1.353487e-22\n",
              "..                             ...           ...           ...\n",
              "74                     dti:22.4-35      0.064989  2.505056e-01\n",
              "75  mths_since_last_delinq:Missing      0.183465  9.662150e-05\n",
              "76     mths_since_last_delinq:4-30      0.208710  1.341142e-05\n",
              "77    mths_since_last_delinq:31-56      0.259619  9.373489e-08\n",
              "78     mths_since_last_delinq:>=57      0.223455  7.782725e-06\n",
              "\n",
              "[79 rows x 3 columns]"
            ]
          },
          "metadata": {
            "tags": []
          },
          "execution_count": 38
        }
      ]
    },
    {
      "cell_type": "code",
      "metadata": {
        "id": "I3juZqpV8UOu",
        "colab": {
          "base_uri": "https://localhost:8080/"
        },
        "outputId": "b67021a1-dbf2-472f-fadb-cd07668c251f"
      },
      "source": [
        "ref_categories"
      ],
      "execution_count": 39,
      "outputs": [
        {
          "output_type": "execute_result",
          "data": {
            "text/plain": [
              "['grade:G',\n",
              " 'addr_state:ND_NE_IA_NV_FL_HI_AL',\n",
              " 'verification_status:Verified',\n",
              " 'purpose:educ__sm_b__wedd__ren_en__mov__house',\n",
              " 'initial_list_status:f',\n",
              " 'term:60',\n",
              " 'emp_length:0',\n",
              " 'mths_since_issue_d:>84',\n",
              " 'int_rate:>20.281',\n",
              " 'mths_since_earliest_cr_line:<140',\n",
              " 'inq_last_6mths:>6',\n",
              " 'acc_now_delinq:0',\n",
              " 'annual_inc:<20K',\n",
              " 'dti:>35',\n",
              " 'mths_since_last_delinq:0-3']"
            ]
          },
          "metadata": {
            "tags": []
          },
          "execution_count": 39
        }
      ]
    },
    {
      "cell_type": "code",
      "metadata": {
        "id": "V2rdlXFY8UOu"
      },
      "source": [
        "df_ref_categories = pd.DataFrame(ref_categories, columns = ['Feature name'])\n",
        "df_ref_categories['Coefficients'] = 0\n",
        "df_ref_categories['p_values'] = np.nan"
      ],
      "execution_count": 40,
      "outputs": []
    },
    {
      "cell_type": "code",
      "metadata": {
        "id": "8v5V6-El8UOu",
        "colab": {
          "base_uri": "https://localhost:8080/",
          "height": 410
        },
        "outputId": "3921564f-6e77-477f-b1bd-366c5fade541"
      },
      "source": [
        "df_scorecard = pd.concat([summary_table, df_ref_categories])\n",
        "df_scorecard = df_scorecard.reset_index()\n",
        "df_scorecard['Original feature name'] = df_scorecard['Feature name'].str.split(':').str[0]\n",
        "df_scorecard"
      ],
      "execution_count": 41,
      "outputs": [
        {
          "output_type": "execute_result",
          "data": {
            "text/html": [
              "<div>\n",
              "<style scoped>\n",
              "    .dataframe tbody tr th:only-of-type {\n",
              "        vertical-align: middle;\n",
              "    }\n",
              "\n",
              "    .dataframe tbody tr th {\n",
              "        vertical-align: top;\n",
              "    }\n",
              "\n",
              "    .dataframe thead th {\n",
              "        text-align: right;\n",
              "    }\n",
              "</style>\n",
              "<table border=\"1\" class=\"dataframe\">\n",
              "  <thead>\n",
              "    <tr style=\"text-align: right;\">\n",
              "      <th></th>\n",
              "      <th>index</th>\n",
              "      <th>Feature name</th>\n",
              "      <th>Coefficients</th>\n",
              "      <th>p_values</th>\n",
              "      <th>Original feature name</th>\n",
              "    </tr>\n",
              "  </thead>\n",
              "  <tbody>\n",
              "    <tr>\n",
              "      <th>0</th>\n",
              "      <td>0</td>\n",
              "      <td>Intercept</td>\n",
              "      <td>-1.256114</td>\n",
              "      <td>NaN</td>\n",
              "      <td>Intercept</td>\n",
              "    </tr>\n",
              "    <tr>\n",
              "      <th>1</th>\n",
              "      <td>1</td>\n",
              "      <td>grade:A</td>\n",
              "      <td>1.161767</td>\n",
              "      <td>6.465676e-38</td>\n",
              "      <td>grade</td>\n",
              "    </tr>\n",
              "    <tr>\n",
              "      <th>2</th>\n",
              "      <td>2</td>\n",
              "      <td>grade:B</td>\n",
              "      <td>0.909561</td>\n",
              "      <td>6.094487e-51</td>\n",
              "      <td>grade</td>\n",
              "    </tr>\n",
              "    <tr>\n",
              "      <th>3</th>\n",
              "      <td>3</td>\n",
              "      <td>grade:C</td>\n",
              "      <td>0.710984</td>\n",
              "      <td>7.723880e-37</td>\n",
              "      <td>grade</td>\n",
              "    </tr>\n",
              "    <tr>\n",
              "      <th>4</th>\n",
              "      <td>4</td>\n",
              "      <td>grade:D</td>\n",
              "      <td>0.519149</td>\n",
              "      <td>1.353487e-22</td>\n",
              "      <td>grade</td>\n",
              "    </tr>\n",
              "    <tr>\n",
              "      <th>...</th>\n",
              "      <td>...</td>\n",
              "      <td>...</td>\n",
              "      <td>...</td>\n",
              "      <td>...</td>\n",
              "      <td>...</td>\n",
              "    </tr>\n",
              "    <tr>\n",
              "      <th>89</th>\n",
              "      <td>10</td>\n",
              "      <td>inq_last_6mths:&gt;6</td>\n",
              "      <td>0.000000</td>\n",
              "      <td>NaN</td>\n",
              "      <td>inq_last_6mths</td>\n",
              "    </tr>\n",
              "    <tr>\n",
              "      <th>90</th>\n",
              "      <td>11</td>\n",
              "      <td>acc_now_delinq:0</td>\n",
              "      <td>0.000000</td>\n",
              "      <td>NaN</td>\n",
              "      <td>acc_now_delinq</td>\n",
              "    </tr>\n",
              "    <tr>\n",
              "      <th>91</th>\n",
              "      <td>12</td>\n",
              "      <td>annual_inc:&lt;20K</td>\n",
              "      <td>0.000000</td>\n",
              "      <td>NaN</td>\n",
              "      <td>annual_inc</td>\n",
              "    </tr>\n",
              "    <tr>\n",
              "      <th>92</th>\n",
              "      <td>13</td>\n",
              "      <td>dti:&gt;35</td>\n",
              "      <td>0.000000</td>\n",
              "      <td>NaN</td>\n",
              "      <td>dti</td>\n",
              "    </tr>\n",
              "    <tr>\n",
              "      <th>93</th>\n",
              "      <td>14</td>\n",
              "      <td>mths_since_last_delinq:0-3</td>\n",
              "      <td>0.000000</td>\n",
              "      <td>NaN</td>\n",
              "      <td>mths_since_last_delinq</td>\n",
              "    </tr>\n",
              "  </tbody>\n",
              "</table>\n",
              "<p>94 rows × 5 columns</p>\n",
              "</div>"
            ],
            "text/plain": [
              "    index                Feature name  ...      p_values   Original feature name\n",
              "0       0                   Intercept  ...           NaN               Intercept\n",
              "1       1                     grade:A  ...  6.465676e-38                   grade\n",
              "2       2                     grade:B  ...  6.094487e-51                   grade\n",
              "3       3                     grade:C  ...  7.723880e-37                   grade\n",
              "4       4                     grade:D  ...  1.353487e-22                   grade\n",
              "..    ...                         ...  ...           ...                     ...\n",
              "89     10           inq_last_6mths:>6  ...           NaN          inq_last_6mths\n",
              "90     11            acc_now_delinq:0  ...           NaN          acc_now_delinq\n",
              "91     12             annual_inc:<20K  ...           NaN              annual_inc\n",
              "92     13                     dti:>35  ...           NaN                     dti\n",
              "93     14  mths_since_last_delinq:0-3  ...           NaN  mths_since_last_delinq\n",
              "\n",
              "[94 rows x 5 columns]"
            ]
          },
          "metadata": {
            "tags": []
          },
          "execution_count": 41
        }
      ]
    },
    {
      "cell_type": "markdown",
      "metadata": {
        "id": "s_0oWd7iTZVq"
      },
      "source": [
        "set the maximum scorecard and the minimum scorecard"
      ]
    },
    {
      "cell_type": "code",
      "metadata": {
        "id": "wd0uadnX8UOu"
      },
      "source": [
        "min_score = 300\n",
        "max_score = 850"
      ],
      "execution_count": 42,
      "outputs": []
    },
    {
      "cell_type": "code",
      "metadata": {
        "id": "fpd60Nlo8UOu"
      },
      "source": [
        "min_sum_coef = df_scorecard.groupby('Original feature name')['Coefficients'].min().sum()\n",
        "max_sum_coef = df_scorecard.groupby('Original feature name')['Coefficients'].max().sum()"
      ],
      "execution_count": 43,
      "outputs": []
    },
    {
      "cell_type": "code",
      "metadata": {
        "id": "Dj7VNk7z8UOv",
        "colab": {
          "base_uri": "https://localhost:8080/"
        },
        "outputId": "2ea7c5ce-2a71-4b2f-dd86-084f8599f0ee"
      },
      "source": [
        "df_scorecard['Score - Calculation'] = df_scorecard['Coefficients'] * (max_score - min_score) / (max_sum_coef - min_sum_coef)\n",
        "df_scorecard['Score - Calculation'][0] = ((df_scorecard['Coefficients'][0] - min_sum_coef) / (max_sum_coef - min_sum_coef)) * (max_score - min_score) + min_score"
      ],
      "execution_count": 44,
      "outputs": [
        {
          "output_type": "stream",
          "text": [
            "/usr/local/lib/python3.6/dist-packages/ipykernel_launcher.py:2: SettingWithCopyWarning: \n",
            "A value is trying to be set on a copy of a slice from a DataFrame\n",
            "\n",
            "See the caveats in the documentation: https://pandas.pydata.org/pandas-docs/stable/user_guide/indexing.html#returning-a-view-versus-a-copy\n",
            "  \n"
          ],
          "name": "stderr"
        }
      ]
    },
    {
      "cell_type": "code",
      "metadata": {
        "id": "OmwhOPeK8UOv"
      },
      "source": [
        "df_scorecard['Score - Preliminary'] = df_scorecard['Score - Calculation'].round()"
      ],
      "execution_count": 45,
      "outputs": []
    },
    {
      "cell_type": "code",
      "metadata": {
        "id": "5lnoKMjG8UOv"
      },
      "source": [
        "min_sum_score_prel = df_scorecard.groupby('Original feature name')['Score - Preliminary'].min().sum()\n",
        "max_sum_score_prel = df_scorecard.groupby('Original feature name')['Score - Preliminary'].max().sum()"
      ],
      "execution_count": 46,
      "outputs": []
    },
    {
      "cell_type": "code",
      "metadata": {
        "id": "ewjDMkT78UOv"
      },
      "source": [
        "df_scorecard['Difference'] = df_scorecard['Score - Preliminary'] - df_scorecard['Score - Calculation']"
      ],
      "execution_count": 47,
      "outputs": []
    },
    {
      "cell_type": "code",
      "metadata": {
        "id": "9dOKvNmS8UOv",
        "colab": {
          "base_uri": "https://localhost:8080/",
          "height": 637
        },
        "outputId": "d681e3cd-010c-4703-ba3b-9819a748c91b"
      },
      "source": [
        "df_scorecard['Score - Final'] = df_scorecard['Score - Preliminary']\n",
        "df_scorecard['Score - Final'][77] = 16\n",
        "df_scorecard"
      ],
      "execution_count": 48,
      "outputs": [
        {
          "output_type": "stream",
          "text": [
            "/usr/local/lib/python3.6/dist-packages/ipykernel_launcher.py:2: SettingWithCopyWarning: \n",
            "A value is trying to be set on a copy of a slice from a DataFrame\n",
            "\n",
            "See the caveats in the documentation: https://pandas.pydata.org/pandas-docs/stable/user_guide/indexing.html#returning-a-view-versus-a-copy\n",
            "  \n"
          ],
          "name": "stderr"
        },
        {
          "output_type": "execute_result",
          "data": {
            "text/html": [
              "<div>\n",
              "<style scoped>\n",
              "    .dataframe tbody tr th:only-of-type {\n",
              "        vertical-align: middle;\n",
              "    }\n",
              "\n",
              "    .dataframe tbody tr th {\n",
              "        vertical-align: top;\n",
              "    }\n",
              "\n",
              "    .dataframe thead th {\n",
              "        text-align: right;\n",
              "    }\n",
              "</style>\n",
              "<table border=\"1\" class=\"dataframe\">\n",
              "  <thead>\n",
              "    <tr style=\"text-align: right;\">\n",
              "      <th></th>\n",
              "      <th>index</th>\n",
              "      <th>Feature name</th>\n",
              "      <th>Coefficients</th>\n",
              "      <th>p_values</th>\n",
              "      <th>Original feature name</th>\n",
              "      <th>Score - Calculation</th>\n",
              "      <th>Score - Preliminary</th>\n",
              "      <th>Difference</th>\n",
              "      <th>Score - Final</th>\n",
              "    </tr>\n",
              "  </thead>\n",
              "  <tbody>\n",
              "    <tr>\n",
              "      <th>0</th>\n",
              "      <td>0</td>\n",
              "      <td>Intercept</td>\n",
              "      <td>-1.256114</td>\n",
              "      <td>NaN</td>\n",
              "      <td>Intercept</td>\n",
              "      <td>303.519398</td>\n",
              "      <td>304.0</td>\n",
              "      <td>0.480602</td>\n",
              "      <td>304.0</td>\n",
              "    </tr>\n",
              "    <tr>\n",
              "      <th>1</th>\n",
              "      <td>1</td>\n",
              "      <td>grade:A</td>\n",
              "      <td>1.161767</td>\n",
              "      <td>6.465676e-38</td>\n",
              "      <td>grade</td>\n",
              "      <td>93.847352</td>\n",
              "      <td>94.0</td>\n",
              "      <td>0.152648</td>\n",
              "      <td>94.0</td>\n",
              "    </tr>\n",
              "    <tr>\n",
              "      <th>2</th>\n",
              "      <td>2</td>\n",
              "      <td>grade:B</td>\n",
              "      <td>0.909561</td>\n",
              "      <td>6.094487e-51</td>\n",
              "      <td>grade</td>\n",
              "      <td>73.474233</td>\n",
              "      <td>73.0</td>\n",
              "      <td>-0.474233</td>\n",
              "      <td>73.0</td>\n",
              "    </tr>\n",
              "    <tr>\n",
              "      <th>3</th>\n",
              "      <td>3</td>\n",
              "      <td>grade:C</td>\n",
              "      <td>0.710984</td>\n",
              "      <td>7.723880e-37</td>\n",
              "      <td>grade</td>\n",
              "      <td>57.433141</td>\n",
              "      <td>57.0</td>\n",
              "      <td>-0.433141</td>\n",
              "      <td>57.0</td>\n",
              "    </tr>\n",
              "    <tr>\n",
              "      <th>4</th>\n",
              "      <td>4</td>\n",
              "      <td>grade:D</td>\n",
              "      <td>0.519149</td>\n",
              "      <td>1.353487e-22</td>\n",
              "      <td>grade</td>\n",
              "      <td>41.936748</td>\n",
              "      <td>42.0</td>\n",
              "      <td>0.063252</td>\n",
              "      <td>42.0</td>\n",
              "    </tr>\n",
              "    <tr>\n",
              "      <th>...</th>\n",
              "      <td>...</td>\n",
              "      <td>...</td>\n",
              "      <td>...</td>\n",
              "      <td>...</td>\n",
              "      <td>...</td>\n",
              "      <td>...</td>\n",
              "      <td>...</td>\n",
              "      <td>...</td>\n",
              "      <td>...</td>\n",
              "    </tr>\n",
              "    <tr>\n",
              "      <th>89</th>\n",
              "      <td>10</td>\n",
              "      <td>inq_last_6mths:&gt;6</td>\n",
              "      <td>0.000000</td>\n",
              "      <td>NaN</td>\n",
              "      <td>inq_last_6mths</td>\n",
              "      <td>0.000000</td>\n",
              "      <td>0.0</td>\n",
              "      <td>0.000000</td>\n",
              "      <td>0.0</td>\n",
              "    </tr>\n",
              "    <tr>\n",
              "      <th>90</th>\n",
              "      <td>11</td>\n",
              "      <td>acc_now_delinq:0</td>\n",
              "      <td>0.000000</td>\n",
              "      <td>NaN</td>\n",
              "      <td>acc_now_delinq</td>\n",
              "      <td>0.000000</td>\n",
              "      <td>0.0</td>\n",
              "      <td>0.000000</td>\n",
              "      <td>0.0</td>\n",
              "    </tr>\n",
              "    <tr>\n",
              "      <th>91</th>\n",
              "      <td>12</td>\n",
              "      <td>annual_inc:&lt;20K</td>\n",
              "      <td>0.000000</td>\n",
              "      <td>NaN</td>\n",
              "      <td>annual_inc</td>\n",
              "      <td>0.000000</td>\n",
              "      <td>0.0</td>\n",
              "      <td>0.000000</td>\n",
              "      <td>0.0</td>\n",
              "    </tr>\n",
              "    <tr>\n",
              "      <th>92</th>\n",
              "      <td>13</td>\n",
              "      <td>dti:&gt;35</td>\n",
              "      <td>0.000000</td>\n",
              "      <td>NaN</td>\n",
              "      <td>dti</td>\n",
              "      <td>0.000000</td>\n",
              "      <td>0.0</td>\n",
              "      <td>0.000000</td>\n",
              "      <td>0.0</td>\n",
              "    </tr>\n",
              "    <tr>\n",
              "      <th>93</th>\n",
              "      <td>14</td>\n",
              "      <td>mths_since_last_delinq:0-3</td>\n",
              "      <td>0.000000</td>\n",
              "      <td>NaN</td>\n",
              "      <td>mths_since_last_delinq</td>\n",
              "      <td>0.000000</td>\n",
              "      <td>0.0</td>\n",
              "      <td>0.000000</td>\n",
              "      <td>0.0</td>\n",
              "    </tr>\n",
              "  </tbody>\n",
              "</table>\n",
              "<p>94 rows × 9 columns</p>\n",
              "</div>"
            ],
            "text/plain": [
              "    index                Feature name  ...  Difference  Score - Final\n",
              "0       0                   Intercept  ...    0.480602          304.0\n",
              "1       1                     grade:A  ...    0.152648           94.0\n",
              "2       2                     grade:B  ...   -0.474233           73.0\n",
              "3       3                     grade:C  ...   -0.433141           57.0\n",
              "4       4                     grade:D  ...    0.063252           42.0\n",
              "..    ...                         ...  ...         ...            ...\n",
              "89     10           inq_last_6mths:>6  ...    0.000000            0.0\n",
              "90     11            acc_now_delinq:0  ...    0.000000            0.0\n",
              "91     12             annual_inc:<20K  ...    0.000000            0.0\n",
              "92     13                     dti:>35  ...    0.000000            0.0\n",
              "93     14  mths_since_last_delinq:0-3  ...    0.000000            0.0\n",
              "\n",
              "[94 rows x 9 columns]"
            ]
          },
          "metadata": {
            "tags": []
          },
          "execution_count": 48
        }
      ]
    },
    {
      "cell_type": "code",
      "metadata": {
        "id": "zunEv9Wm8UOv"
      },
      "source": [
        "min_sum_score_prel = df_scorecard.groupby('Original feature name')['Score - Final'].min().sum()\n",
        "max_sum_score_prel = df_scorecard.groupby('Original feature name')['Score - Final'].max().sum()"
      ],
      "execution_count": 49,
      "outputs": []
    },
    {
      "cell_type": "markdown",
      "metadata": {
        "id": "BSqfSsHo8UOv"
      },
      "source": [
        "### Caclulating Credit Score"
      ]
    },
    {
      "cell_type": "code",
      "metadata": {
        "id": "cxZ3OL7s8UOv",
        "colab": {
          "base_uri": "https://localhost:8080/",
          "height": 529
        },
        "outputId": "a0b0dd21-ba53-4e42-8714-723167b2318a"
      },
      "source": [
        "df_scorecard"
      ],
      "execution_count": 50,
      "outputs": [
        {
          "output_type": "execute_result",
          "data": {
            "text/html": [
              "<div>\n",
              "<style scoped>\n",
              "    .dataframe tbody tr th:only-of-type {\n",
              "        vertical-align: middle;\n",
              "    }\n",
              "\n",
              "    .dataframe tbody tr th {\n",
              "        vertical-align: top;\n",
              "    }\n",
              "\n",
              "    .dataframe thead th {\n",
              "        text-align: right;\n",
              "    }\n",
              "</style>\n",
              "<table border=\"1\" class=\"dataframe\">\n",
              "  <thead>\n",
              "    <tr style=\"text-align: right;\">\n",
              "      <th></th>\n",
              "      <th>index</th>\n",
              "      <th>Feature name</th>\n",
              "      <th>Coefficients</th>\n",
              "      <th>p_values</th>\n",
              "      <th>Original feature name</th>\n",
              "      <th>Score - Calculation</th>\n",
              "      <th>Score - Preliminary</th>\n",
              "      <th>Difference</th>\n",
              "      <th>Score - Final</th>\n",
              "    </tr>\n",
              "  </thead>\n",
              "  <tbody>\n",
              "    <tr>\n",
              "      <th>0</th>\n",
              "      <td>0</td>\n",
              "      <td>Intercept</td>\n",
              "      <td>-1.256114</td>\n",
              "      <td>NaN</td>\n",
              "      <td>Intercept</td>\n",
              "      <td>303.519398</td>\n",
              "      <td>304.0</td>\n",
              "      <td>0.480602</td>\n",
              "      <td>304.0</td>\n",
              "    </tr>\n",
              "    <tr>\n",
              "      <th>1</th>\n",
              "      <td>1</td>\n",
              "      <td>grade:A</td>\n",
              "      <td>1.161767</td>\n",
              "      <td>6.465676e-38</td>\n",
              "      <td>grade</td>\n",
              "      <td>93.847352</td>\n",
              "      <td>94.0</td>\n",
              "      <td>0.152648</td>\n",
              "      <td>94.0</td>\n",
              "    </tr>\n",
              "    <tr>\n",
              "      <th>2</th>\n",
              "      <td>2</td>\n",
              "      <td>grade:B</td>\n",
              "      <td>0.909561</td>\n",
              "      <td>6.094487e-51</td>\n",
              "      <td>grade</td>\n",
              "      <td>73.474233</td>\n",
              "      <td>73.0</td>\n",
              "      <td>-0.474233</td>\n",
              "      <td>73.0</td>\n",
              "    </tr>\n",
              "    <tr>\n",
              "      <th>3</th>\n",
              "      <td>3</td>\n",
              "      <td>grade:C</td>\n",
              "      <td>0.710984</td>\n",
              "      <td>7.723880e-37</td>\n",
              "      <td>grade</td>\n",
              "      <td>57.433141</td>\n",
              "      <td>57.0</td>\n",
              "      <td>-0.433141</td>\n",
              "      <td>57.0</td>\n",
              "    </tr>\n",
              "    <tr>\n",
              "      <th>4</th>\n",
              "      <td>4</td>\n",
              "      <td>grade:D</td>\n",
              "      <td>0.519149</td>\n",
              "      <td>1.353487e-22</td>\n",
              "      <td>grade</td>\n",
              "      <td>41.936748</td>\n",
              "      <td>42.0</td>\n",
              "      <td>0.063252</td>\n",
              "      <td>42.0</td>\n",
              "    </tr>\n",
              "    <tr>\n",
              "      <th>...</th>\n",
              "      <td>...</td>\n",
              "      <td>...</td>\n",
              "      <td>...</td>\n",
              "      <td>...</td>\n",
              "      <td>...</td>\n",
              "      <td>...</td>\n",
              "      <td>...</td>\n",
              "      <td>...</td>\n",
              "      <td>...</td>\n",
              "    </tr>\n",
              "    <tr>\n",
              "      <th>89</th>\n",
              "      <td>10</td>\n",
              "      <td>inq_last_6mths:&gt;6</td>\n",
              "      <td>0.000000</td>\n",
              "      <td>NaN</td>\n",
              "      <td>inq_last_6mths</td>\n",
              "      <td>0.000000</td>\n",
              "      <td>0.0</td>\n",
              "      <td>0.000000</td>\n",
              "      <td>0.0</td>\n",
              "    </tr>\n",
              "    <tr>\n",
              "      <th>90</th>\n",
              "      <td>11</td>\n",
              "      <td>acc_now_delinq:0</td>\n",
              "      <td>0.000000</td>\n",
              "      <td>NaN</td>\n",
              "      <td>acc_now_delinq</td>\n",
              "      <td>0.000000</td>\n",
              "      <td>0.0</td>\n",
              "      <td>0.000000</td>\n",
              "      <td>0.0</td>\n",
              "    </tr>\n",
              "    <tr>\n",
              "      <th>91</th>\n",
              "      <td>12</td>\n",
              "      <td>annual_inc:&lt;20K</td>\n",
              "      <td>0.000000</td>\n",
              "      <td>NaN</td>\n",
              "      <td>annual_inc</td>\n",
              "      <td>0.000000</td>\n",
              "      <td>0.0</td>\n",
              "      <td>0.000000</td>\n",
              "      <td>0.0</td>\n",
              "    </tr>\n",
              "    <tr>\n",
              "      <th>92</th>\n",
              "      <td>13</td>\n",
              "      <td>dti:&gt;35</td>\n",
              "      <td>0.000000</td>\n",
              "      <td>NaN</td>\n",
              "      <td>dti</td>\n",
              "      <td>0.000000</td>\n",
              "      <td>0.0</td>\n",
              "      <td>0.000000</td>\n",
              "      <td>0.0</td>\n",
              "    </tr>\n",
              "    <tr>\n",
              "      <th>93</th>\n",
              "      <td>14</td>\n",
              "      <td>mths_since_last_delinq:0-3</td>\n",
              "      <td>0.000000</td>\n",
              "      <td>NaN</td>\n",
              "      <td>mths_since_last_delinq</td>\n",
              "      <td>0.000000</td>\n",
              "      <td>0.0</td>\n",
              "      <td>0.000000</td>\n",
              "      <td>0.0</td>\n",
              "    </tr>\n",
              "  </tbody>\n",
              "</table>\n",
              "<p>94 rows × 9 columns</p>\n",
              "</div>"
            ],
            "text/plain": [
              "    index                Feature name  ...  Difference  Score - Final\n",
              "0       0                   Intercept  ...    0.480602          304.0\n",
              "1       1                     grade:A  ...    0.152648           94.0\n",
              "2       2                     grade:B  ...   -0.474233           73.0\n",
              "3       3                     grade:C  ...   -0.433141           57.0\n",
              "4       4                     grade:D  ...    0.063252           42.0\n",
              "..    ...                         ...  ...         ...            ...\n",
              "89     10           inq_last_6mths:>6  ...    0.000000            0.0\n",
              "90     11            acc_now_delinq:0  ...    0.000000            0.0\n",
              "91     12             annual_inc:<20K  ...    0.000000            0.0\n",
              "92     13                     dti:>35  ...    0.000000            0.0\n",
              "93     14  mths_since_last_delinq:0-3  ...    0.000000            0.0\n",
              "\n",
              "[94 rows x 9 columns]"
            ]
          },
          "metadata": {
            "tags": []
          },
          "execution_count": 50
        }
      ]
    },
    {
      "cell_type": "code",
      "metadata": {
        "id": "MgZDAwVv8UOv",
        "colab": {
          "base_uri": "https://localhost:8080/",
          "height": 265
        },
        "outputId": "a9f4c1ae-f7ca-4da5-a490-c4a917e2c346"
      },
      "source": [
        "inputs_test_with_ref_cat_w_intercept = inputs_test_with_ref_cat\n",
        "inputs_test_with_ref_cat_w_intercept.insert(0, 'Intercept', 1)\n",
        "inputs_test_with_ref_cat_w_intercept.head()"
      ],
      "execution_count": 51,
      "outputs": [
        {
          "output_type": "execute_result",
          "data": {
            "text/html": [
              "<div>\n",
              "<style scoped>\n",
              "    .dataframe tbody tr th:only-of-type {\n",
              "        vertical-align: middle;\n",
              "    }\n",
              "\n",
              "    .dataframe tbody tr th {\n",
              "        vertical-align: top;\n",
              "    }\n",
              "\n",
              "    .dataframe thead th {\n",
              "        text-align: right;\n",
              "    }\n",
              "</style>\n",
              "<table border=\"1\" class=\"dataframe\">\n",
              "  <thead>\n",
              "    <tr style=\"text-align: right;\">\n",
              "      <th></th>\n",
              "      <th>Intercept</th>\n",
              "      <th>grade:A</th>\n",
              "      <th>grade:B</th>\n",
              "      <th>grade:C</th>\n",
              "      <th>grade:D</th>\n",
              "      <th>grade:E</th>\n",
              "      <th>grade:F</th>\n",
              "      <th>grade:G</th>\n",
              "      <th>home_ownership:OWN</th>\n",
              "      <th>home_ownership:MORTGAGE</th>\n",
              "      <th>addr_state:ND_NE_IA_NV_FL_HI_AL</th>\n",
              "      <th>addr_state:NM_VA</th>\n",
              "      <th>addr_state:NY</th>\n",
              "      <th>addr_state:OK_TN_MO_LA_MD_NC</th>\n",
              "      <th>addr_state:CA</th>\n",
              "      <th>addr_state:UT_KY_AZ_NJ</th>\n",
              "      <th>addr_state:AR_MI_PA_OH_MN</th>\n",
              "      <th>addr_state:RI_MA_DE_SD_IN</th>\n",
              "      <th>addr_state:GA_WA_OR</th>\n",
              "      <th>addr_state:WI_MT</th>\n",
              "      <th>addr_state:TX</th>\n",
              "      <th>addr_state:IL_CT</th>\n",
              "      <th>addr_state:KS_SC_CO_VT_AK_MS</th>\n",
              "      <th>addr_state:WV_NH_WY_DC_ME_ID</th>\n",
              "      <th>verification_status:Not Verified</th>\n",
              "      <th>verification_status:Source Verified</th>\n",
              "      <th>verification_status:Verified</th>\n",
              "      <th>purpose:educ__sm_b__wedd__ren_en__mov__house</th>\n",
              "      <th>purpose:credit_card</th>\n",
              "      <th>purpose:debt_consolidation</th>\n",
              "      <th>purpose:oth__med__vacation</th>\n",
              "      <th>purpose:major_purch__car__home_impr</th>\n",
              "      <th>initial_list_status:f</th>\n",
              "      <th>initial_list_status:w</th>\n",
              "      <th>term:36</th>\n",
              "      <th>term:60</th>\n",
              "      <th>emp_length:0</th>\n",
              "      <th>emp_length:1</th>\n",
              "      <th>emp_length:2-4</th>\n",
              "      <th>emp_length:5-6</th>\n",
              "      <th>...</th>\n",
              "      <th>int_rate:&gt;20.281</th>\n",
              "      <th>mths_since_earliest_cr_line:&lt;140</th>\n",
              "      <th>mths_since_earliest_cr_line:141-164</th>\n",
              "      <th>mths_since_earliest_cr_line:165-247</th>\n",
              "      <th>mths_since_earliest_cr_line:248-270</th>\n",
              "      <th>mths_since_earliest_cr_line:271-352</th>\n",
              "      <th>mths_since_earliest_cr_line:&gt;352</th>\n",
              "      <th>inq_last_6mths:0</th>\n",
              "      <th>inq_last_6mths:1-2</th>\n",
              "      <th>inq_last_6mths:3-6</th>\n",
              "      <th>inq_last_6mths:&gt;6</th>\n",
              "      <th>acc_now_delinq:0</th>\n",
              "      <th>acc_now_delinq:&gt;=1</th>\n",
              "      <th>annual_inc:&lt;20K</th>\n",
              "      <th>annual_inc:20K-30K</th>\n",
              "      <th>annual_inc:30K-40K</th>\n",
              "      <th>annual_inc:40K-50K</th>\n",
              "      <th>annual_inc:50K-60K</th>\n",
              "      <th>annual_inc:60K-70K</th>\n",
              "      <th>annual_inc:70K-80K</th>\n",
              "      <th>annual_inc:80K-90K</th>\n",
              "      <th>annual_inc:90K-100K</th>\n",
              "      <th>annual_inc:100K-120K</th>\n",
              "      <th>annual_inc:120K-140K</th>\n",
              "      <th>annual_inc:&gt;140K</th>\n",
              "      <th>dti:&lt;=1.4</th>\n",
              "      <th>dti:1.4-3.5</th>\n",
              "      <th>dti:3.5-7.7</th>\n",
              "      <th>dti:7.7-10.5</th>\n",
              "      <th>dti:10.5-16.1</th>\n",
              "      <th>dti:16.1-20.3</th>\n",
              "      <th>dti:20.3-21.7</th>\n",
              "      <th>dti:21.7-22.4</th>\n",
              "      <th>dti:22.4-35</th>\n",
              "      <th>dti:&gt;35</th>\n",
              "      <th>mths_since_last_delinq:Missing</th>\n",
              "      <th>mths_since_last_delinq:0-3</th>\n",
              "      <th>mths_since_last_delinq:4-30</th>\n",
              "      <th>mths_since_last_delinq:31-56</th>\n",
              "      <th>mths_since_last_delinq:&gt;=57</th>\n",
              "    </tr>\n",
              "  </thead>\n",
              "  <tbody>\n",
              "    <tr>\n",
              "      <th>362514</th>\n",
              "      <td>1</td>\n",
              "      <td>0</td>\n",
              "      <td>0</td>\n",
              "      <td>1</td>\n",
              "      <td>0</td>\n",
              "      <td>0</td>\n",
              "      <td>0</td>\n",
              "      <td>0</td>\n",
              "      <td>0</td>\n",
              "      <td>1</td>\n",
              "      <td>0</td>\n",
              "      <td>0</td>\n",
              "      <td>0</td>\n",
              "      <td>0</td>\n",
              "      <td>1</td>\n",
              "      <td>0</td>\n",
              "      <td>0</td>\n",
              "      <td>0</td>\n",
              "      <td>0</td>\n",
              "      <td>0</td>\n",
              "      <td>0</td>\n",
              "      <td>0</td>\n",
              "      <td>0</td>\n",
              "      <td>0</td>\n",
              "      <td>0</td>\n",
              "      <td>0</td>\n",
              "      <td>1</td>\n",
              "      <td>0</td>\n",
              "      <td>0</td>\n",
              "      <td>0</td>\n",
              "      <td>0</td>\n",
              "      <td>1</td>\n",
              "      <td>1</td>\n",
              "      <td>0</td>\n",
              "      <td>0</td>\n",
              "      <td>1</td>\n",
              "      <td>1</td>\n",
              "      <td>0</td>\n",
              "      <td>0</td>\n",
              "      <td>0</td>\n",
              "      <td>...</td>\n",
              "      <td>0</td>\n",
              "      <td>0</td>\n",
              "      <td>0</td>\n",
              "      <td>1</td>\n",
              "      <td>0</td>\n",
              "      <td>0</td>\n",
              "      <td>0</td>\n",
              "      <td>1</td>\n",
              "      <td>0</td>\n",
              "      <td>0</td>\n",
              "      <td>0</td>\n",
              "      <td>1</td>\n",
              "      <td>0</td>\n",
              "      <td>0</td>\n",
              "      <td>0</td>\n",
              "      <td>0</td>\n",
              "      <td>0</td>\n",
              "      <td>0</td>\n",
              "      <td>1</td>\n",
              "      <td>0</td>\n",
              "      <td>0</td>\n",
              "      <td>0</td>\n",
              "      <td>0</td>\n",
              "      <td>0</td>\n",
              "      <td>0</td>\n",
              "      <td>0</td>\n",
              "      <td>0</td>\n",
              "      <td>0</td>\n",
              "      <td>1</td>\n",
              "      <td>0</td>\n",
              "      <td>0</td>\n",
              "      <td>0</td>\n",
              "      <td>0</td>\n",
              "      <td>0</td>\n",
              "      <td>0</td>\n",
              "      <td>1</td>\n",
              "      <td>0</td>\n",
              "      <td>0</td>\n",
              "      <td>0</td>\n",
              "      <td>0</td>\n",
              "    </tr>\n",
              "    <tr>\n",
              "      <th>288564</th>\n",
              "      <td>1</td>\n",
              "      <td>0</td>\n",
              "      <td>0</td>\n",
              "      <td>0</td>\n",
              "      <td>0</td>\n",
              "      <td>1</td>\n",
              "      <td>0</td>\n",
              "      <td>0</td>\n",
              "      <td>0</td>\n",
              "      <td>1</td>\n",
              "      <td>0</td>\n",
              "      <td>0</td>\n",
              "      <td>0</td>\n",
              "      <td>0</td>\n",
              "      <td>0</td>\n",
              "      <td>0</td>\n",
              "      <td>0</td>\n",
              "      <td>1</td>\n",
              "      <td>0</td>\n",
              "      <td>0</td>\n",
              "      <td>0</td>\n",
              "      <td>0</td>\n",
              "      <td>0</td>\n",
              "      <td>0</td>\n",
              "      <td>0</td>\n",
              "      <td>0</td>\n",
              "      <td>1</td>\n",
              "      <td>0</td>\n",
              "      <td>1</td>\n",
              "      <td>0</td>\n",
              "      <td>0</td>\n",
              "      <td>0</td>\n",
              "      <td>0</td>\n",
              "      <td>1</td>\n",
              "      <td>0</td>\n",
              "      <td>1</td>\n",
              "      <td>0</td>\n",
              "      <td>0</td>\n",
              "      <td>0</td>\n",
              "      <td>0</td>\n",
              "      <td>...</td>\n",
              "      <td>1</td>\n",
              "      <td>0</td>\n",
              "      <td>0</td>\n",
              "      <td>1</td>\n",
              "      <td>0</td>\n",
              "      <td>0</td>\n",
              "      <td>0</td>\n",
              "      <td>1</td>\n",
              "      <td>0</td>\n",
              "      <td>0</td>\n",
              "      <td>0</td>\n",
              "      <td>1</td>\n",
              "      <td>0</td>\n",
              "      <td>0</td>\n",
              "      <td>0</td>\n",
              "      <td>0</td>\n",
              "      <td>0</td>\n",
              "      <td>1</td>\n",
              "      <td>0</td>\n",
              "      <td>0</td>\n",
              "      <td>0</td>\n",
              "      <td>0</td>\n",
              "      <td>0</td>\n",
              "      <td>0</td>\n",
              "      <td>0</td>\n",
              "      <td>0</td>\n",
              "      <td>0</td>\n",
              "      <td>0</td>\n",
              "      <td>0</td>\n",
              "      <td>0</td>\n",
              "      <td>0</td>\n",
              "      <td>0</td>\n",
              "      <td>0</td>\n",
              "      <td>1</td>\n",
              "      <td>0</td>\n",
              "      <td>0</td>\n",
              "      <td>1</td>\n",
              "      <td>0</td>\n",
              "      <td>0</td>\n",
              "      <td>0</td>\n",
              "    </tr>\n",
              "    <tr>\n",
              "      <th>213591</th>\n",
              "      <td>1</td>\n",
              "      <td>0</td>\n",
              "      <td>0</td>\n",
              "      <td>1</td>\n",
              "      <td>0</td>\n",
              "      <td>0</td>\n",
              "      <td>0</td>\n",
              "      <td>0</td>\n",
              "      <td>0</td>\n",
              "      <td>1</td>\n",
              "      <td>0</td>\n",
              "      <td>0</td>\n",
              "      <td>0</td>\n",
              "      <td>0</td>\n",
              "      <td>0</td>\n",
              "      <td>1</td>\n",
              "      <td>0</td>\n",
              "      <td>0</td>\n",
              "      <td>0</td>\n",
              "      <td>0</td>\n",
              "      <td>0</td>\n",
              "      <td>0</td>\n",
              "      <td>0</td>\n",
              "      <td>0</td>\n",
              "      <td>0</td>\n",
              "      <td>0</td>\n",
              "      <td>1</td>\n",
              "      <td>0</td>\n",
              "      <td>0</td>\n",
              "      <td>1</td>\n",
              "      <td>0</td>\n",
              "      <td>0</td>\n",
              "      <td>1</td>\n",
              "      <td>0</td>\n",
              "      <td>1</td>\n",
              "      <td>0</td>\n",
              "      <td>0</td>\n",
              "      <td>1</td>\n",
              "      <td>0</td>\n",
              "      <td>0</td>\n",
              "      <td>...</td>\n",
              "      <td>0</td>\n",
              "      <td>0</td>\n",
              "      <td>0</td>\n",
              "      <td>1</td>\n",
              "      <td>0</td>\n",
              "      <td>0</td>\n",
              "      <td>0</td>\n",
              "      <td>1</td>\n",
              "      <td>0</td>\n",
              "      <td>0</td>\n",
              "      <td>0</td>\n",
              "      <td>1</td>\n",
              "      <td>0</td>\n",
              "      <td>0</td>\n",
              "      <td>0</td>\n",
              "      <td>0</td>\n",
              "      <td>0</td>\n",
              "      <td>0</td>\n",
              "      <td>0</td>\n",
              "      <td>0</td>\n",
              "      <td>0</td>\n",
              "      <td>0</td>\n",
              "      <td>0</td>\n",
              "      <td>0</td>\n",
              "      <td>1</td>\n",
              "      <td>0</td>\n",
              "      <td>0</td>\n",
              "      <td>0</td>\n",
              "      <td>0</td>\n",
              "      <td>1</td>\n",
              "      <td>0</td>\n",
              "      <td>0</td>\n",
              "      <td>0</td>\n",
              "      <td>0</td>\n",
              "      <td>0</td>\n",
              "      <td>0</td>\n",
              "      <td>0</td>\n",
              "      <td>0</td>\n",
              "      <td>1</td>\n",
              "      <td>0</td>\n",
              "    </tr>\n",
              "    <tr>\n",
              "      <th>263083</th>\n",
              "      <td>1</td>\n",
              "      <td>0</td>\n",
              "      <td>0</td>\n",
              "      <td>1</td>\n",
              "      <td>0</td>\n",
              "      <td>0</td>\n",
              "      <td>0</td>\n",
              "      <td>0</td>\n",
              "      <td>0</td>\n",
              "      <td>1</td>\n",
              "      <td>0</td>\n",
              "      <td>0</td>\n",
              "      <td>0</td>\n",
              "      <td>0</td>\n",
              "      <td>0</td>\n",
              "      <td>0</td>\n",
              "      <td>1</td>\n",
              "      <td>0</td>\n",
              "      <td>0</td>\n",
              "      <td>0</td>\n",
              "      <td>0</td>\n",
              "      <td>0</td>\n",
              "      <td>0</td>\n",
              "      <td>0</td>\n",
              "      <td>0</td>\n",
              "      <td>1</td>\n",
              "      <td>0</td>\n",
              "      <td>0</td>\n",
              "      <td>0</td>\n",
              "      <td>1</td>\n",
              "      <td>0</td>\n",
              "      <td>0</td>\n",
              "      <td>0</td>\n",
              "      <td>1</td>\n",
              "      <td>0</td>\n",
              "      <td>1</td>\n",
              "      <td>0</td>\n",
              "      <td>0</td>\n",
              "      <td>1</td>\n",
              "      <td>0</td>\n",
              "      <td>...</td>\n",
              "      <td>0</td>\n",
              "      <td>1</td>\n",
              "      <td>0</td>\n",
              "      <td>0</td>\n",
              "      <td>0</td>\n",
              "      <td>0</td>\n",
              "      <td>0</td>\n",
              "      <td>1</td>\n",
              "      <td>0</td>\n",
              "      <td>0</td>\n",
              "      <td>0</td>\n",
              "      <td>1</td>\n",
              "      <td>0</td>\n",
              "      <td>0</td>\n",
              "      <td>0</td>\n",
              "      <td>0</td>\n",
              "      <td>0</td>\n",
              "      <td>0</td>\n",
              "      <td>1</td>\n",
              "      <td>0</td>\n",
              "      <td>0</td>\n",
              "      <td>0</td>\n",
              "      <td>0</td>\n",
              "      <td>0</td>\n",
              "      <td>0</td>\n",
              "      <td>0</td>\n",
              "      <td>0</td>\n",
              "      <td>0</td>\n",
              "      <td>0</td>\n",
              "      <td>0</td>\n",
              "      <td>1</td>\n",
              "      <td>0</td>\n",
              "      <td>0</td>\n",
              "      <td>0</td>\n",
              "      <td>0</td>\n",
              "      <td>1</td>\n",
              "      <td>0</td>\n",
              "      <td>0</td>\n",
              "      <td>0</td>\n",
              "      <td>0</td>\n",
              "    </tr>\n",
              "    <tr>\n",
              "      <th>165001</th>\n",
              "      <td>1</td>\n",
              "      <td>1</td>\n",
              "      <td>0</td>\n",
              "      <td>0</td>\n",
              "      <td>0</td>\n",
              "      <td>0</td>\n",
              "      <td>0</td>\n",
              "      <td>0</td>\n",
              "      <td>0</td>\n",
              "      <td>1</td>\n",
              "      <td>0</td>\n",
              "      <td>0</td>\n",
              "      <td>0</td>\n",
              "      <td>0</td>\n",
              "      <td>0</td>\n",
              "      <td>0</td>\n",
              "      <td>1</td>\n",
              "      <td>0</td>\n",
              "      <td>0</td>\n",
              "      <td>0</td>\n",
              "      <td>0</td>\n",
              "      <td>0</td>\n",
              "      <td>0</td>\n",
              "      <td>0</td>\n",
              "      <td>0</td>\n",
              "      <td>0</td>\n",
              "      <td>1</td>\n",
              "      <td>0</td>\n",
              "      <td>0</td>\n",
              "      <td>1</td>\n",
              "      <td>0</td>\n",
              "      <td>0</td>\n",
              "      <td>1</td>\n",
              "      <td>0</td>\n",
              "      <td>1</td>\n",
              "      <td>0</td>\n",
              "      <td>0</td>\n",
              "      <td>0</td>\n",
              "      <td>0</td>\n",
              "      <td>0</td>\n",
              "      <td>...</td>\n",
              "      <td>0</td>\n",
              "      <td>0</td>\n",
              "      <td>0</td>\n",
              "      <td>0</td>\n",
              "      <td>0</td>\n",
              "      <td>0</td>\n",
              "      <td>1</td>\n",
              "      <td>1</td>\n",
              "      <td>0</td>\n",
              "      <td>0</td>\n",
              "      <td>0</td>\n",
              "      <td>1</td>\n",
              "      <td>0</td>\n",
              "      <td>0</td>\n",
              "      <td>0</td>\n",
              "      <td>0</td>\n",
              "      <td>0</td>\n",
              "      <td>0</td>\n",
              "      <td>0</td>\n",
              "      <td>0</td>\n",
              "      <td>1</td>\n",
              "      <td>0</td>\n",
              "      <td>0</td>\n",
              "      <td>0</td>\n",
              "      <td>0</td>\n",
              "      <td>0</td>\n",
              "      <td>0</td>\n",
              "      <td>0</td>\n",
              "      <td>1</td>\n",
              "      <td>0</td>\n",
              "      <td>0</td>\n",
              "      <td>0</td>\n",
              "      <td>0</td>\n",
              "      <td>0</td>\n",
              "      <td>0</td>\n",
              "      <td>0</td>\n",
              "      <td>0</td>\n",
              "      <td>0</td>\n",
              "      <td>1</td>\n",
              "      <td>0</td>\n",
              "    </tr>\n",
              "  </tbody>\n",
              "</table>\n",
              "<p>5 rows × 94 columns</p>\n",
              "</div>"
            ],
            "text/plain": [
              "        Intercept  ...  mths_since_last_delinq:>=57\n",
              "362514          1  ...                            0\n",
              "288564          1  ...                            0\n",
              "213591          1  ...                            0\n",
              "263083          1  ...                            0\n",
              "165001          1  ...                            0\n",
              "\n",
              "[5 rows x 94 columns]"
            ]
          },
          "metadata": {
            "tags": []
          },
          "execution_count": 51
        }
      ]
    },
    {
      "cell_type": "code",
      "metadata": {
        "id": "mKs4GNkS8UOv"
      },
      "source": [
        "inputs_test_with_ref_cat_w_intercept = inputs_test_with_ref_cat_w_intercept[df_scorecard['Feature name'].values]"
      ],
      "execution_count": 52,
      "outputs": []
    },
    {
      "cell_type": "code",
      "metadata": {
        "id": "t5siu9-q8UOv"
      },
      "source": [
        "scorecard_scores = df_scorecard['Score - Final']"
      ],
      "execution_count": 53,
      "outputs": []
    },
    {
      "cell_type": "code",
      "metadata": {
        "id": "f2ELsxbN8UOv",
        "colab": {
          "base_uri": "https://localhost:8080/"
        },
        "outputId": "ff2d4b57-340b-44d1-8694-a73ca32ed52b"
      },
      "source": [
        "inputs_test_with_ref_cat_w_intercept.shape"
      ],
      "execution_count": 54,
      "outputs": [
        {
          "output_type": "execute_result",
          "data": {
            "text/plain": [
              "(93257, 94)"
            ]
          },
          "metadata": {
            "tags": []
          },
          "execution_count": 54
        }
      ]
    },
    {
      "cell_type": "code",
      "metadata": {
        "id": "7t_NukAB8UOv",
        "colab": {
          "base_uri": "https://localhost:8080/"
        },
        "outputId": "dc5dcf7c-d4a0-4516-a20c-ebede6429bfd"
      },
      "source": [
        "scorecard_scores.shape"
      ],
      "execution_count": 55,
      "outputs": [
        {
          "output_type": "execute_result",
          "data": {
            "text/plain": [
              "(94,)"
            ]
          },
          "metadata": {
            "tags": []
          },
          "execution_count": 55
        }
      ]
    },
    {
      "cell_type": "code",
      "metadata": {
        "id": "s36dtoD68UOv"
      },
      "source": [
        "scorecard_scores = scorecard_scores.values.reshape(94, 1)"
      ],
      "execution_count": 56,
      "outputs": []
    },
    {
      "cell_type": "code",
      "metadata": {
        "id": "9rGMTYUR8UOv",
        "colab": {
          "base_uri": "https://localhost:8080/"
        },
        "outputId": "bea054a6-92a0-4bf6-a22b-88435835f755"
      },
      "source": [
        "scorecard_scores.shape"
      ],
      "execution_count": 57,
      "outputs": [
        {
          "output_type": "execute_result",
          "data": {
            "text/plain": [
              "(94, 1)"
            ]
          },
          "metadata": {
            "tags": []
          },
          "execution_count": 57
        }
      ]
    },
    {
      "cell_type": "code",
      "metadata": {
        "id": "563pFhJe8UOv"
      },
      "source": [
        "y_scores = inputs_test_with_ref_cat_w_intercept.dot(scorecard_scores)\n",
        "# Here we multiply the values of each row of the dataframe by the values of each column of the variable,\n",
        "# which is an argument of the 'dot' method, and sum them. It's essentially the sum of the products."
      ],
      "execution_count": 58,
      "outputs": []
    },
    {
      "cell_type": "code",
      "metadata": {
        "id": "Ql7XtWeE8UOv",
        "colab": {
          "base_uri": "https://localhost:8080/",
          "height": 199
        },
        "outputId": "d4d647c3-4755-452e-9d72-be871d54861b"
      },
      "source": [
        "y_scores.head()"
      ],
      "execution_count": 59,
      "outputs": [
        {
          "output_type": "execute_result",
          "data": {
            "text/html": [
              "<div>\n",
              "<style scoped>\n",
              "    .dataframe tbody tr th:only-of-type {\n",
              "        vertical-align: middle;\n",
              "    }\n",
              "\n",
              "    .dataframe tbody tr th {\n",
              "        vertical-align: top;\n",
              "    }\n",
              "\n",
              "    .dataframe thead th {\n",
              "        text-align: right;\n",
              "    }\n",
              "</style>\n",
              "<table border=\"1\" class=\"dataframe\">\n",
              "  <thead>\n",
              "    <tr style=\"text-align: right;\">\n",
              "      <th></th>\n",
              "      <th>0</th>\n",
              "    </tr>\n",
              "  </thead>\n",
              "  <tbody>\n",
              "    <tr>\n",
              "      <th>362514</th>\n",
              "      <td>607.0</td>\n",
              "    </tr>\n",
              "    <tr>\n",
              "      <th>288564</th>\n",
              "      <td>539.0</td>\n",
              "    </tr>\n",
              "    <tr>\n",
              "      <th>213591</th>\n",
              "      <td>565.0</td>\n",
              "    </tr>\n",
              "    <tr>\n",
              "      <th>263083</th>\n",
              "      <td>628.0</td>\n",
              "    </tr>\n",
              "    <tr>\n",
              "      <th>165001</th>\n",
              "      <td>678.0</td>\n",
              "    </tr>\n",
              "  </tbody>\n",
              "</table>\n",
              "</div>"
            ],
            "text/plain": [
              "            0\n",
              "362514  607.0\n",
              "288564  539.0\n",
              "213591  565.0\n",
              "263083  628.0\n",
              "165001  678.0"
            ]
          },
          "metadata": {
            "tags": []
          },
          "execution_count": 59
        }
      ]
    },
    {
      "cell_type": "markdown",
      "metadata": {
        "id": "mRaIgkjm8UOv"
      },
      "source": [
        "### From Credit Score to PD"
      ]
    },
    {
      "cell_type": "code",
      "metadata": {
        "id": "yrU9AxSW8UOv"
      },
      "source": [
        "sum_coef_from_score = ((y_scores - min_score) / (max_score - min_score)) * (max_sum_coef - min_sum_coef) + min_sum_coef"
      ],
      "execution_count": 60,
      "outputs": []
    },
    {
      "cell_type": "code",
      "metadata": {
        "id": "1w4WECmp8UOv"
      },
      "source": [
        "y_hat_proba_from_score = np.exp(sum_coef_from_score) / (np.exp(sum_coef_from_score) + 1)"
      ],
      "execution_count": 61,
      "outputs": []
    },
    {
      "cell_type": "code",
      "metadata": {
        "id": "SVAHDIBM8UOv",
        "colab": {
          "base_uri": "https://localhost:8080/"
        },
        "outputId": "220c67af-f6e8-4ecf-a5dc-6b6c05fd121f"
      },
      "source": [
        "df_actual_predicted_probs['y_hat_test_proba'].head()"
      ],
      "execution_count": 62,
      "outputs": [
        {
          "output_type": "execute_result",
          "data": {
            "text/plain": [
              "362514    0.925377\n",
              "288564    0.841643\n",
              "213591    0.885692\n",
              "263083    0.941302\n",
              "165001    0.968927\n",
              "Name: y_hat_test_proba, dtype: float64"
            ]
          },
          "metadata": {
            "tags": []
          },
          "execution_count": 62
        }
      ]
    },
    {
      "cell_type": "markdown",
      "metadata": {
        "id": "7YVn_I4N8UOw"
      },
      "source": [
        "### Setting Cut-offs"
      ]
    },
    {
      "cell_type": "code",
      "metadata": {
        "id": "CWEEF9M48UOw"
      },
      "source": [
        "tr = 0.9\n",
        "df_actual_predicted_probs['y_hat_test'] = np.where(df_actual_predicted_probs['y_hat_test_proba'] > tr, 1, 0)"
      ],
      "execution_count": 63,
      "outputs": []
    },
    {
      "cell_type": "code",
      "metadata": {
        "id": "F6_6NH1m8UOw",
        "colab": {
          "base_uri": "https://localhost:8080/",
          "height": 139
        },
        "outputId": "3824d75e-45dc-43c9-d4cd-c3cb8ced1240"
      },
      "source": [
        "pd.crosstab(df_actual_predicted_probs['loan_data_targets_test'], df_actual_predicted_probs['y_hat_test'], rownames = ['Actual'], colnames = ['Predicted'])\n",
        "pd.crosstab(df_actual_predicted_probs['loan_data_targets_test'], df_actual_predicted_probs['y_hat_test'], rownames = ['Actual'], colnames = ['Predicted']) / df_actual_predicted_probs.shape[0]"
      ],
      "execution_count": 64,
      "outputs": [
        {
          "output_type": "execute_result",
          "data": {
            "text/html": [
              "<div>\n",
              "<style scoped>\n",
              "    .dataframe tbody tr th:only-of-type {\n",
              "        vertical-align: middle;\n",
              "    }\n",
              "\n",
              "    .dataframe tbody tr th {\n",
              "        vertical-align: top;\n",
              "    }\n",
              "\n",
              "    .dataframe thead th {\n",
              "        text-align: right;\n",
              "    }\n",
              "</style>\n",
              "<table border=\"1\" class=\"dataframe\">\n",
              "  <thead>\n",
              "    <tr style=\"text-align: right;\">\n",
              "      <th>Predicted</th>\n",
              "      <th>0</th>\n",
              "      <th>1</th>\n",
              "    </tr>\n",
              "    <tr>\n",
              "      <th>Actual</th>\n",
              "      <th></th>\n",
              "      <th></th>\n",
              "    </tr>\n",
              "  </thead>\n",
              "  <tbody>\n",
              "    <tr>\n",
              "      <th>0</th>\n",
              "      <td>0.079083</td>\n",
              "      <td>0.030185</td>\n",
              "    </tr>\n",
              "    <tr>\n",
              "      <th>1</th>\n",
              "      <td>0.385033</td>\n",
              "      <td>0.505699</td>\n",
              "    </tr>\n",
              "  </tbody>\n",
              "</table>\n",
              "</div>"
            ],
            "text/plain": [
              "Predicted         0         1\n",
              "Actual                       \n",
              "0          0.079083  0.030185\n",
              "1          0.385033  0.505699"
            ]
          },
          "metadata": {
            "tags": []
          },
          "execution_count": 64
        }
      ]
    },
    {
      "cell_type": "code",
      "metadata": {
        "id": "HjSfKloB8UOw"
      },
      "source": [
        "from sklearn.metrics import roc_curve, roc_auc_score"
      ],
      "execution_count": 65,
      "outputs": []
    },
    {
      "cell_type": "code",
      "metadata": {
        "id": "29AzxNiJ8UOw"
      },
      "source": [
        "fpr, tpr, thresholds = roc_curve(df_actual_predicted_probs['loan_data_targets_test'], df_actual_predicted_probs['y_hat_test_proba'])"
      ],
      "execution_count": 66,
      "outputs": []
    },
    {
      "cell_type": "code",
      "metadata": {
        "id": "stMCgoJR8UOw"
      },
      "source": [
        "df_cutoffs = pd.concat([pd.DataFrame(thresholds), pd.DataFrame(fpr), pd.DataFrame(tpr)], axis = 1)\n",
        "df_cutoffs.columns = ['thresholds', 'fpr', 'tpr']\n",
        "df_cutoffs['thresholds'][0] = 1 - 1 / np.power(10, 16)"
      ],
      "execution_count": 67,
      "outputs": []
    },
    {
      "cell_type": "code",
      "metadata": {
        "id": "2tdmYgFS8UOw"
      },
      "source": [
        "df_cutoffs['Score'] = ((np.log(df_cutoffs['thresholds'] / (1 - df_cutoffs['thresholds'])) - min_sum_coef) * ((max_score - min_score) / (max_sum_coef - min_sum_coef)) + min_score).round()\n",
        "df_cutoffs['Score'][0] = max_score"
      ],
      "execution_count": 68,
      "outputs": []
    },
    {
      "cell_type": "code",
      "metadata": {
        "id": "ExUk7zIY8UOw"
      },
      "source": [
        "# We define a function called 'n_approved' which assigns a value of 1 if a predicted probability\n",
        "# is greater than the parameter p, which is a threshold, and a value of 0, if it is not.\n",
        "# Then it sums the column.\n",
        "# Thus, if given any percentage values, the function will return\n",
        "# the number of rows wih estimated probabilites greater than the threshold. \n",
        "def n_approved(p):\n",
        "    return np.where(df_actual_predicted_probs['y_hat_test_proba'] >= p, 1, 0).sum()"
      ],
      "execution_count": 69,
      "outputs": []
    },
    {
      "cell_type": "code",
      "metadata": {
        "id": "LSccWxJ08UOw"
      },
      "source": [
        "df_cutoffs['N Approved'] = df_cutoffs['thresholds'].apply(n_approved)\n",
        "df_cutoffs['N Rejected'] = df_actual_predicted_probs['y_hat_test_proba'].shape[0] - df_cutoffs['N Approved']\n",
        "df_cutoffs['Approval Rate'] = df_cutoffs['N Approved'] / df_actual_predicted_probs['y_hat_test_proba'].shape[0]\n",
        "df_cutoffs['Rejection Rate'] = 1 - df_cutoffs['Approval Rate']"
      ],
      "execution_count": 70,
      "outputs": []
    },
    {
      "cell_type": "code",
      "metadata": {
        "id": "MKy9R00q8UOw",
        "colab": {
          "base_uri": "https://localhost:8080/",
          "height": 199
        },
        "outputId": "e3d49818-5eff-459d-b52b-a5d7982824aa"
      },
      "source": [
        "df_cutoffs.head()"
      ],
      "execution_count": 71,
      "outputs": [
        {
          "output_type": "execute_result",
          "data": {
            "text/html": [
              "<div>\n",
              "<style scoped>\n",
              "    .dataframe tbody tr th:only-of-type {\n",
              "        vertical-align: middle;\n",
              "    }\n",
              "\n",
              "    .dataframe tbody tr th {\n",
              "        vertical-align: top;\n",
              "    }\n",
              "\n",
              "    .dataframe thead th {\n",
              "        text-align: right;\n",
              "    }\n",
              "</style>\n",
              "<table border=\"1\" class=\"dataframe\">\n",
              "  <thead>\n",
              "    <tr style=\"text-align: right;\">\n",
              "      <th></th>\n",
              "      <th>thresholds</th>\n",
              "      <th>fpr</th>\n",
              "      <th>tpr</th>\n",
              "      <th>Score</th>\n",
              "      <th>N Approved</th>\n",
              "      <th>N Rejected</th>\n",
              "      <th>Approval Rate</th>\n",
              "      <th>Rejection Rate</th>\n",
              "    </tr>\n",
              "  </thead>\n",
              "  <tbody>\n",
              "    <tr>\n",
              "      <th>0</th>\n",
              "      <td>1.000000</td>\n",
              "      <td>0.000000</td>\n",
              "      <td>0.000000</td>\n",
              "      <td>850.0</td>\n",
              "      <td>0</td>\n",
              "      <td>93257</td>\n",
              "      <td>0.000000</td>\n",
              "      <td>1.000000</td>\n",
              "    </tr>\n",
              "    <tr>\n",
              "      <th>1</th>\n",
              "      <td>0.992227</td>\n",
              "      <td>0.000000</td>\n",
              "      <td>0.000012</td>\n",
              "      <td>797.0</td>\n",
              "      <td>1</td>\n",
              "      <td>93256</td>\n",
              "      <td>0.000011</td>\n",
              "      <td>0.999989</td>\n",
              "    </tr>\n",
              "    <tr>\n",
              "      <th>2</th>\n",
              "      <td>0.990846</td>\n",
              "      <td>0.000000</td>\n",
              "      <td>0.000096</td>\n",
              "      <td>783.0</td>\n",
              "      <td>8</td>\n",
              "      <td>93249</td>\n",
              "      <td>0.000086</td>\n",
              "      <td>0.999914</td>\n",
              "    </tr>\n",
              "    <tr>\n",
              "      <th>3</th>\n",
              "      <td>0.990806</td>\n",
              "      <td>0.000098</td>\n",
              "      <td>0.000096</td>\n",
              "      <td>783.0</td>\n",
              "      <td>9</td>\n",
              "      <td>93248</td>\n",
              "      <td>0.000097</td>\n",
              "      <td>0.999903</td>\n",
              "    </tr>\n",
              "    <tr>\n",
              "      <th>4</th>\n",
              "      <td>0.990027</td>\n",
              "      <td>0.000098</td>\n",
              "      <td>0.000313</td>\n",
              "      <td>776.0</td>\n",
              "      <td>27</td>\n",
              "      <td>93230</td>\n",
              "      <td>0.000290</td>\n",
              "      <td>0.999710</td>\n",
              "    </tr>\n",
              "  </tbody>\n",
              "</table>\n",
              "</div>"
            ],
            "text/plain": [
              "   thresholds       fpr       tpr  ...  N Rejected  Approval Rate  Rejection Rate\n",
              "0    1.000000  0.000000  0.000000  ...       93257       0.000000        1.000000\n",
              "1    0.992227  0.000000  0.000012  ...       93256       0.000011        0.999989\n",
              "2    0.990846  0.000000  0.000096  ...       93249       0.000086        0.999914\n",
              "3    0.990806  0.000098  0.000096  ...       93248       0.000097        0.999903\n",
              "4    0.990027  0.000098  0.000313  ...       93230       0.000290        0.999710\n",
              "\n",
              "[5 rows x 8 columns]"
            ]
          },
          "metadata": {
            "tags": []
          },
          "execution_count": 71
        }
      ]
    },
    {
      "cell_type": "code",
      "metadata": {
        "id": "iJgslB208UOw"
      },
      "source": [
        "inputs_train_with_ref_cat.to_csv('inputs_train_with_ref_cat.csv')"
      ],
      "execution_count": 72,
      "outputs": []
    },
    {
      "cell_type": "code",
      "metadata": {
        "id": "vTBrDrtD8UOw"
      },
      "source": [
        "df_scorecard.to_csv('df_scorecard.csv')"
      ],
      "execution_count": 73,
      "outputs": []
    }
  ]
}